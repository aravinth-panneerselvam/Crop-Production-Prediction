{
 "cells": [
  {
   "cell_type": "code",
   "execution_count": 1,
   "id": "d6eea309",
   "metadata": {},
   "outputs": [],
   "source": [
    "import pandas as pd\n",
    "import numpy as np\n",
    "import matplotlib.pyplot as plt\n",
    "import plotly.express as px\n",
    "import plotly.graph_objects as go\n",
    "import seaborn as sns\n",
    "import warnings\n",
    "from datetime import datetime\n",
    "import country_converter as coco\n",
    "warnings.simplefilter('ignore')"
   ]
  },
  {
   "cell_type": "code",
   "execution_count": 2,
   "id": "66da0a02",
   "metadata": {},
   "outputs": [
    {
     "data": {
      "application/vnd.microsoft.datawrangler.viewer.v0+json": {
       "columns": [
        {
         "name": "index",
         "rawType": "int64",
         "type": "integer"
        },
        {
         "name": "Domain Code",
         "rawType": "object",
         "type": "string"
        },
        {
         "name": "Domain",
         "rawType": "object",
         "type": "string"
        },
        {
         "name": "Area Code (M49)",
         "rawType": "int64",
         "type": "integer"
        },
        {
         "name": "Area",
         "rawType": "object",
         "type": "string"
        },
        {
         "name": "Element Code",
         "rawType": "int64",
         "type": "integer"
        },
        {
         "name": "Element",
         "rawType": "object",
         "type": "string"
        },
        {
         "name": "Item Code (CPC)",
         "rawType": "object",
         "type": "unknown"
        },
        {
         "name": "Item",
         "rawType": "object",
         "type": "string"
        },
        {
         "name": "Year Code",
         "rawType": "int64",
         "type": "integer"
        },
        {
         "name": "Year",
         "rawType": "int64",
         "type": "integer"
        },
        {
         "name": "Unit",
         "rawType": "object",
         "type": "unknown"
        },
        {
         "name": "Value",
         "rawType": "float64",
         "type": "float"
        },
        {
         "name": "Flag",
         "rawType": "object",
         "type": "unknown"
        },
        {
         "name": "Flag Description",
         "rawType": "object",
         "type": "unknown"
        },
        {
         "name": "Note",
         "rawType": "object",
         "type": "unknown"
        }
       ],
       "ref": "85222166-75e1-4c5d-8751-a834a2341cd3",
       "rows": [
        [
         "0",
         "QCL",
         "Crops and livestock products",
         "4",
         "Afghanistan",
         "5312",
         "Area harvested",
         "1371",
         "Almonds, in shell",
         "2019",
         "2019",
         "ha",
         "29203.0",
         "A",
         "Official figure",
         null
        ],
        [
         "1",
         "QCL",
         "Crops and livestock products",
         "4",
         "Afghanistan",
         "5412",
         "Yield",
         "1371",
         "Almonds, in shell",
         "2019",
         "2019",
         "kg/ha",
         "1308.3",
         "A",
         "Official figure",
         null
        ],
        [
         "2",
         "QCL",
         "Crops and livestock products",
         "4",
         "Afghanistan",
         "5510",
         "Production",
         "1371",
         "Almonds, in shell",
         "2019",
         "2019",
         "t",
         "38205.0",
         "A",
         "Official figure",
         null
        ],
        [
         "3",
         "QCL",
         "Crops and livestock products",
         "4",
         "Afghanistan",
         "5312",
         "Area harvested",
         "1371",
         "Almonds, in shell",
         "2020",
         "2020",
         "ha",
         "22134.0",
         "A",
         "Official figure",
         null
        ],
        [
         "4",
         "QCL",
         "Crops and livestock products",
         "4",
         "Afghanistan",
         "5412",
         "Yield",
         "1371",
         "Almonds, in shell",
         "2020",
         "2020",
         "kg/ha",
         "1775.9",
         "A",
         "Official figure",
         null
        ],
        [
         "5",
         "QCL",
         "Crops and livestock products",
         "4",
         "Afghanistan",
         "5510",
         "Production",
         "1371",
         "Almonds, in shell",
         "2020",
         "2020",
         "t",
         "39307.0",
         "A",
         "Official figure",
         null
        ],
        [
         "6",
         "QCL",
         "Crops and livestock products",
         "4",
         "Afghanistan",
         "5312",
         "Area harvested",
         "1371",
         "Almonds, in shell",
         "2021",
         "2021",
         "ha",
         "36862.0",
         "A",
         "Official figure",
         null
        ],
        [
         "7",
         "QCL",
         "Crops and livestock products",
         "4",
         "Afghanistan",
         "5412",
         "Yield",
         "1371",
         "Almonds, in shell",
         "2021",
         "2021",
         "kg/ha",
         "1743.2",
         "A",
         "Official figure",
         null
        ],
        [
         "8",
         "QCL",
         "Crops and livestock products",
         "4",
         "Afghanistan",
         "5510",
         "Production",
         "1371",
         "Almonds, in shell",
         "2021",
         "2021",
         "t",
         "64256.0",
         "A",
         "Official figure",
         null
        ],
        [
         "9",
         "QCL",
         "Crops and livestock products",
         "4",
         "Afghanistan",
         "5312",
         "Area harvested",
         "1371",
         "Almonds, in shell",
         "2022",
         "2022",
         "ha",
         "36462.0",
         "A",
         "Official figure",
         null
        ],
        [
         "10",
         "QCL",
         "Crops and livestock products",
         "4",
         "Afghanistan",
         "5412",
         "Yield",
         "1371",
         "Almonds, in shell",
         "2022",
         "2022",
         "kg/ha",
         "1742.0",
         "A",
         "Official figure",
         null
        ],
        [
         "11",
         "QCL",
         "Crops and livestock products",
         "4",
         "Afghanistan",
         "5510",
         "Production",
         "1371",
         "Almonds, in shell",
         "2022",
         "2022",
         "t",
         "63515.0",
         "A",
         "Official figure",
         null
        ],
        [
         "12",
         "QCL",
         "Crops and livestock products",
         "4",
         "Afghanistan",
         "5312",
         "Area harvested",
         "1371",
         "Almonds, in shell",
         "2023",
         "2023",
         "ha",
         "37000.0",
         "A",
         "Official figure",
         null
        ],
        [
         "13",
         "QCL",
         "Crops and livestock products",
         "4",
         "Afghanistan",
         "5412",
         "Yield",
         "1371",
         "Almonds, in shell",
         "2023",
         "2023",
         "kg/ha",
         "1810.8",
         "A",
         "Official figure",
         null
        ],
        [
         "14",
         "QCL",
         "Crops and livestock products",
         "4",
         "Afghanistan",
         "5510",
         "Production",
         "1371",
         "Almonds, in shell",
         "2023",
         "2023",
         "t",
         "67000.0",
         "A",
         "Official figure",
         null
        ],
        [
         "15",
         "QCL",
         "Crops and livestock products",
         "4",
         "Afghanistan",
         "5312",
         "Area harvested",
         "1654",
         "Anise, badian, coriander, cumin, caraway, fennel and juniper berries, raw",
         "2019",
         "2019",
         "ha",
         "25293.0",
         "E",
         "Estimated value",
         null
        ],
        [
         "16",
         "QCL",
         "Crops and livestock products",
         "4",
         "Afghanistan",
         "5412",
         "Yield",
         "1654",
         "Anise, badian, coriander, cumin, caraway, fennel and juniper berries, raw",
         "2019",
         "2019",
         "kg/ha",
         "704.1",
         "E",
         "Estimated value",
         null
        ],
        [
         "17",
         "QCL",
         "Crops and livestock products",
         "4",
         "Afghanistan",
         "5510",
         "Production",
         "1654",
         "Anise, badian, coriander, cumin, caraway, fennel and juniper berries, raw",
         "2019",
         "2019",
         "t",
         "17807.76",
         "E",
         "Estimated value",
         null
        ],
        [
         "18",
         "QCL",
         "Crops and livestock products",
         "4",
         "Afghanistan",
         "5312",
         "Area harvested",
         "1654",
         "Anise, badian, coriander, cumin, caraway, fennel and juniper berries, raw",
         "2020",
         "2020",
         "ha",
         "25558.0",
         "E",
         "Estimated value",
         null
        ],
        [
         "19",
         "QCL",
         "Crops and livestock products",
         "4",
         "Afghanistan",
         "5412",
         "Yield",
         "1654",
         "Anise, badian, coriander, cumin, caraway, fennel and juniper berries, raw",
         "2020",
         "2020",
         "kg/ha",
         "703.0",
         "E",
         "Estimated value",
         null
        ],
        [
         "20",
         "QCL",
         "Crops and livestock products",
         "4",
         "Afghanistan",
         "5510",
         "Production",
         "1654",
         "Anise, badian, coriander, cumin, caraway, fennel and juniper berries, raw",
         "2020",
         "2020",
         "t",
         "17965.9",
         "E",
         "Estimated value",
         null
        ],
        [
         "21",
         "QCL",
         "Crops and livestock products",
         "4",
         "Afghanistan",
         "5312",
         "Area harvested",
         "1654",
         "Anise, badian, coriander, cumin, caraway, fennel and juniper berries, raw",
         "2021",
         "2021",
         "ha",
         "25357.0",
         "E",
         "Estimated value",
         null
        ],
        [
         "22",
         "QCL",
         "Crops and livestock products",
         "4",
         "Afghanistan",
         "5412",
         "Yield",
         "1654",
         "Anise, badian, coriander, cumin, caraway, fennel and juniper berries, raw",
         "2021",
         "2021",
         "kg/ha",
         "705.0",
         "E",
         "Estimated value",
         null
        ],
        [
         "23",
         "QCL",
         "Crops and livestock products",
         "4",
         "Afghanistan",
         "5510",
         "Production",
         "1654",
         "Anise, badian, coriander, cumin, caraway, fennel and juniper berries, raw",
         "2021",
         "2021",
         "t",
         "17876.49",
         "E",
         "Estimated value",
         null
        ],
        [
         "24",
         "QCL",
         "Crops and livestock products",
         "4",
         "Afghanistan",
         "5312",
         "Area harvested",
         "1654",
         "Anise, badian, coriander, cumin, caraway, fennel and juniper berries, raw",
         "2022",
         "2022",
         "ha",
         "25403.0",
         "E",
         "Estimated value",
         null
        ],
        [
         "25",
         "QCL",
         "Crops and livestock products",
         "4",
         "Afghanistan",
         "5412",
         "Yield",
         "1654",
         "Anise, badian, coriander, cumin, caraway, fennel and juniper berries, raw",
         "2022",
         "2022",
         "kg/ha",
         "704.0",
         "E",
         "Estimated value",
         null
        ],
        [
         "26",
         "QCL",
         "Crops and livestock products",
         "4",
         "Afghanistan",
         "5510",
         "Production",
         "1654",
         "Anise, badian, coriander, cumin, caraway, fennel and juniper berries, raw",
         "2022",
         "2022",
         "t",
         "17883.38",
         "E",
         "Estimated value",
         null
        ],
        [
         "27",
         "QCL",
         "Crops and livestock products",
         "4",
         "Afghanistan",
         "5312",
         "Area harvested",
         "1654",
         "Anise, badian, coriander, cumin, caraway, fennel and juniper berries, raw",
         "2023",
         "2023",
         "ha",
         "25439.0",
         "E",
         "Estimated value",
         null
        ],
        [
         "28",
         "QCL",
         "Crops and livestock products",
         "4",
         "Afghanistan",
         "5412",
         "Yield",
         "1654",
         "Anise, badian, coriander, cumin, caraway, fennel and juniper berries, raw",
         "2023",
         "2023",
         "kg/ha",
         "704.0",
         "E",
         "Estimated value",
         null
        ],
        [
         "29",
         "QCL",
         "Crops and livestock products",
         "4",
         "Afghanistan",
         "5510",
         "Production",
         "1654",
         "Anise, badian, coriander, cumin, caraway, fennel and juniper berries, raw",
         "2023",
         "2023",
         "t",
         "17908.59",
         "E",
         "Estimated value",
         null
        ],
        [
         "30",
         "QCL",
         "Crops and livestock products",
         "4",
         "Afghanistan",
         "5312",
         "Area harvested",
         "1341",
         "Apples",
         "2019",
         "2019",
         "ha",
         "27559.0",
         "A",
         "Official figure",
         null
        ],
        [
         "31",
         "QCL",
         "Crops and livestock products",
         "4",
         "Afghanistan",
         "5412",
         "Yield",
         "1341",
         "Apples",
         "2019",
         "2019",
         "kg/ha",
         "9083.2",
         "A",
         "Official figure",
         null
        ],
        [
         "32",
         "QCL",
         "Crops and livestock products",
         "4",
         "Afghanistan",
         "5510",
         "Production",
         "1341",
         "Apples",
         "2019",
         "2019",
         "t",
         "250324.0",
         "A",
         "Official figure",
         null
        ],
        [
         "33",
         "QCL",
         "Crops and livestock products",
         "4",
         "Afghanistan",
         "5312",
         "Area harvested",
         "1341",
         "Apples",
         "2020",
         "2020",
         "ha",
         "25643.0",
         "A",
         "Official figure",
         null
        ],
        [
         "34",
         "QCL",
         "Crops and livestock products",
         "4",
         "Afghanistan",
         "5412",
         "Yield",
         "1341",
         "Apples",
         "2020",
         "2020",
         "kg/ha",
         "10562.6",
         "A",
         "Official figure",
         null
        ],
        [
         "35",
         "QCL",
         "Crops and livestock products",
         "4",
         "Afghanistan",
         "5510",
         "Production",
         "1341",
         "Apples",
         "2020",
         "2020",
         "t",
         "270857.0",
         "A",
         "Official figure",
         null
        ],
        [
         "36",
         "QCL",
         "Crops and livestock products",
         "4",
         "Afghanistan",
         "5312",
         "Area harvested",
         "1341",
         "Apples",
         "2021",
         "2021",
         "ha",
         "30463.0",
         "A",
         "Official figure",
         null
        ],
        [
         "37",
         "QCL",
         "Crops and livestock products",
         "4",
         "Afghanistan",
         "5412",
         "Yield",
         "1341",
         "Apples",
         "2021",
         "2021",
         "kg/ha",
         "10559.4",
         "A",
         "Official figure",
         null
        ],
        [
         "38",
         "QCL",
         "Crops and livestock products",
         "4",
         "Afghanistan",
         "5510",
         "Production",
         "1341",
         "Apples",
         "2021",
         "2021",
         "t",
         "321672.0",
         "A",
         "Official figure",
         null
        ],
        [
         "39",
         "QCL",
         "Crops and livestock products",
         "4",
         "Afghanistan",
         "5312",
         "Area harvested",
         "1341",
         "Apples",
         "2022",
         "2022",
         "ha",
         "30163.0",
         "A",
         "Official figure",
         null
        ],
        [
         "40",
         "QCL",
         "Crops and livestock products",
         "4",
         "Afghanistan",
         "5412",
         "Yield",
         "1341",
         "Apples",
         "2022",
         "2022",
         "kg/ha",
         "10556.0",
         "A",
         "Official figure",
         null
        ],
        [
         "41",
         "QCL",
         "Crops and livestock products",
         "4",
         "Afghanistan",
         "5510",
         "Production",
         "1341",
         "Apples",
         "2022",
         "2022",
         "t",
         "318402.0",
         "A",
         "Official figure",
         null
        ],
        [
         "42",
         "QCL",
         "Crops and livestock products",
         "4",
         "Afghanistan",
         "5312",
         "Area harvested",
         "1341",
         "Apples",
         "2023",
         "2023",
         "ha",
         "31000.0",
         "A",
         "Official figure",
         null
        ],
        [
         "43",
         "QCL",
         "Crops and livestock products",
         "4",
         "Afghanistan",
         "5412",
         "Yield",
         "1341",
         "Apples",
         "2023",
         "2023",
         "kg/ha",
         "10451.6",
         "A",
         "Official figure",
         null
        ],
        [
         "44",
         "QCL",
         "Crops and livestock products",
         "4",
         "Afghanistan",
         "5510",
         "Production",
         "1341",
         "Apples",
         "2023",
         "2023",
         "t",
         "324000.0",
         "A",
         "Official figure",
         null
        ],
        [
         "45",
         "QCL",
         "Crops and livestock products",
         "4",
         "Afghanistan",
         "5312",
         "Area harvested",
         "1343",
         "Apricots",
         "2019",
         "2019",
         "ha",
         "17719.0",
         "A",
         "Official figure",
         null
        ],
        [
         "46",
         "QCL",
         "Crops and livestock products",
         "4",
         "Afghanistan",
         "5412",
         "Yield",
         "1343",
         "Apricots",
         "2019",
         "2019",
         "kg/ha",
         "7300.8",
         "A",
         "Official figure",
         null
        ],
        [
         "47",
         "QCL",
         "Crops and livestock products",
         "4",
         "Afghanistan",
         "5510",
         "Production",
         "1343",
         "Apricots",
         "2019",
         "2019",
         "t",
         "129363.0",
         "A",
         "Official figure",
         null
        ],
        [
         "48",
         "QCL",
         "Crops and livestock products",
         "4",
         "Afghanistan",
         "5312",
         "Area harvested",
         "1343",
         "Apricots",
         "2020",
         "2020",
         "ha",
         "17481.0",
         "A",
         "Official figure",
         null
        ],
        [
         "49",
         "QCL",
         "Crops and livestock products",
         "4",
         "Afghanistan",
         "5412",
         "Yield",
         "1343",
         "Apricots",
         "2020",
         "2020",
         "kg/ha",
         "7538.9",
         "A",
         "Official figure",
         null
        ]
       ],
       "shape": {
        "columns": 15,
        "rows": 224647
       }
      },
      "text/html": [
       "<div>\n",
       "<style scoped>\n",
       "    .dataframe tbody tr th:only-of-type {\n",
       "        vertical-align: middle;\n",
       "    }\n",
       "\n",
       "    .dataframe tbody tr th {\n",
       "        vertical-align: top;\n",
       "    }\n",
       "\n",
       "    .dataframe thead th {\n",
       "        text-align: right;\n",
       "    }\n",
       "</style>\n",
       "<table border=\"1\" class=\"dataframe\">\n",
       "  <thead>\n",
       "    <tr style=\"text-align: right;\">\n",
       "      <th></th>\n",
       "      <th>Domain Code</th>\n",
       "      <th>Domain</th>\n",
       "      <th>Area Code (M49)</th>\n",
       "      <th>Area</th>\n",
       "      <th>Element Code</th>\n",
       "      <th>Element</th>\n",
       "      <th>Item Code (CPC)</th>\n",
       "      <th>Item</th>\n",
       "      <th>Year Code</th>\n",
       "      <th>Year</th>\n",
       "      <th>Unit</th>\n",
       "      <th>Value</th>\n",
       "      <th>Flag</th>\n",
       "      <th>Flag Description</th>\n",
       "      <th>Note</th>\n",
       "    </tr>\n",
       "  </thead>\n",
       "  <tbody>\n",
       "    <tr>\n",
       "      <th>0</th>\n",
       "      <td>QCL</td>\n",
       "      <td>Crops and livestock products</td>\n",
       "      <td>4</td>\n",
       "      <td>Afghanistan</td>\n",
       "      <td>5312</td>\n",
       "      <td>Area harvested</td>\n",
       "      <td>1371</td>\n",
       "      <td>Almonds, in shell</td>\n",
       "      <td>2019</td>\n",
       "      <td>2019</td>\n",
       "      <td>ha</td>\n",
       "      <td>29203.00</td>\n",
       "      <td>A</td>\n",
       "      <td>Official figure</td>\n",
       "      <td>NaN</td>\n",
       "    </tr>\n",
       "    <tr>\n",
       "      <th>1</th>\n",
       "      <td>QCL</td>\n",
       "      <td>Crops and livestock products</td>\n",
       "      <td>4</td>\n",
       "      <td>Afghanistan</td>\n",
       "      <td>5412</td>\n",
       "      <td>Yield</td>\n",
       "      <td>1371</td>\n",
       "      <td>Almonds, in shell</td>\n",
       "      <td>2019</td>\n",
       "      <td>2019</td>\n",
       "      <td>kg/ha</td>\n",
       "      <td>1308.30</td>\n",
       "      <td>A</td>\n",
       "      <td>Official figure</td>\n",
       "      <td>NaN</td>\n",
       "    </tr>\n",
       "    <tr>\n",
       "      <th>2</th>\n",
       "      <td>QCL</td>\n",
       "      <td>Crops and livestock products</td>\n",
       "      <td>4</td>\n",
       "      <td>Afghanistan</td>\n",
       "      <td>5510</td>\n",
       "      <td>Production</td>\n",
       "      <td>1371</td>\n",
       "      <td>Almonds, in shell</td>\n",
       "      <td>2019</td>\n",
       "      <td>2019</td>\n",
       "      <td>t</td>\n",
       "      <td>38205.00</td>\n",
       "      <td>A</td>\n",
       "      <td>Official figure</td>\n",
       "      <td>NaN</td>\n",
       "    </tr>\n",
       "    <tr>\n",
       "      <th>3</th>\n",
       "      <td>QCL</td>\n",
       "      <td>Crops and livestock products</td>\n",
       "      <td>4</td>\n",
       "      <td>Afghanistan</td>\n",
       "      <td>5312</td>\n",
       "      <td>Area harvested</td>\n",
       "      <td>1371</td>\n",
       "      <td>Almonds, in shell</td>\n",
       "      <td>2020</td>\n",
       "      <td>2020</td>\n",
       "      <td>ha</td>\n",
       "      <td>22134.00</td>\n",
       "      <td>A</td>\n",
       "      <td>Official figure</td>\n",
       "      <td>NaN</td>\n",
       "    </tr>\n",
       "    <tr>\n",
       "      <th>4</th>\n",
       "      <td>QCL</td>\n",
       "      <td>Crops and livestock products</td>\n",
       "      <td>4</td>\n",
       "      <td>Afghanistan</td>\n",
       "      <td>5412</td>\n",
       "      <td>Yield</td>\n",
       "      <td>1371</td>\n",
       "      <td>Almonds, in shell</td>\n",
       "      <td>2020</td>\n",
       "      <td>2020</td>\n",
       "      <td>kg/ha</td>\n",
       "      <td>1775.90</td>\n",
       "      <td>A</td>\n",
       "      <td>Official figure</td>\n",
       "      <td>NaN</td>\n",
       "    </tr>\n",
       "    <tr>\n",
       "      <th>...</th>\n",
       "      <td>...</td>\n",
       "      <td>...</td>\n",
       "      <td>...</td>\n",
       "      <td>...</td>\n",
       "      <td>...</td>\n",
       "      <td>...</td>\n",
       "      <td>...</td>\n",
       "      <td>...</td>\n",
       "      <td>...</td>\n",
       "      <td>...</td>\n",
       "      <td>...</td>\n",
       "      <td>...</td>\n",
       "      <td>...</td>\n",
       "      <td>...</td>\n",
       "      <td>...</td>\n",
       "    </tr>\n",
       "    <tr>\n",
       "      <th>224642</th>\n",
       "      <td>QCL</td>\n",
       "      <td>Crops and livestock products</td>\n",
       "      <td>716</td>\n",
       "      <td>Zimbabwe</td>\n",
       "      <td>5510</td>\n",
       "      <td>Production</td>\n",
       "      <td>22221.01</td>\n",
       "      <td>Whole milk, evaporated</td>\n",
       "      <td>2019</td>\n",
       "      <td>2019</td>\n",
       "      <td>t</td>\n",
       "      <td>5010.21</td>\n",
       "      <td>I</td>\n",
       "      <td>Imputed value</td>\n",
       "      <td>NaN</td>\n",
       "    </tr>\n",
       "    <tr>\n",
       "      <th>224643</th>\n",
       "      <td>QCL</td>\n",
       "      <td>Crops and livestock products</td>\n",
       "      <td>716</td>\n",
       "      <td>Zimbabwe</td>\n",
       "      <td>5510</td>\n",
       "      <td>Production</td>\n",
       "      <td>22221.01</td>\n",
       "      <td>Whole milk, evaporated</td>\n",
       "      <td>2020</td>\n",
       "      <td>2020</td>\n",
       "      <td>t</td>\n",
       "      <td>4795.70</td>\n",
       "      <td>I</td>\n",
       "      <td>Imputed value</td>\n",
       "      <td>NaN</td>\n",
       "    </tr>\n",
       "    <tr>\n",
       "      <th>224644</th>\n",
       "      <td>QCL</td>\n",
       "      <td>Crops and livestock products</td>\n",
       "      <td>716</td>\n",
       "      <td>Zimbabwe</td>\n",
       "      <td>5510</td>\n",
       "      <td>Production</td>\n",
       "      <td>22221.01</td>\n",
       "      <td>Whole milk, evaporated</td>\n",
       "      <td>2021</td>\n",
       "      <td>2021</td>\n",
       "      <td>t</td>\n",
       "      <td>4921.05</td>\n",
       "      <td>I</td>\n",
       "      <td>Imputed value</td>\n",
       "      <td>NaN</td>\n",
       "    </tr>\n",
       "    <tr>\n",
       "      <th>224645</th>\n",
       "      <td>QCL</td>\n",
       "      <td>Crops and livestock products</td>\n",
       "      <td>716</td>\n",
       "      <td>Zimbabwe</td>\n",
       "      <td>5510</td>\n",
       "      <td>Production</td>\n",
       "      <td>22221.01</td>\n",
       "      <td>Whole milk, evaporated</td>\n",
       "      <td>2022</td>\n",
       "      <td>2022</td>\n",
       "      <td>t</td>\n",
       "      <td>4966.37</td>\n",
       "      <td>I</td>\n",
       "      <td>Imputed value</td>\n",
       "      <td>NaN</td>\n",
       "    </tr>\n",
       "    <tr>\n",
       "      <th>224646</th>\n",
       "      <td>QCL</td>\n",
       "      <td>Crops and livestock products</td>\n",
       "      <td>716</td>\n",
       "      <td>Zimbabwe</td>\n",
       "      <td>5510</td>\n",
       "      <td>Production</td>\n",
       "      <td>24212.02</td>\n",
       "      <td>Wine</td>\n",
       "      <td>2019</td>\n",
       "      <td>2019</td>\n",
       "      <td>t</td>\n",
       "      <td>NaN</td>\n",
       "      <td>A</td>\n",
       "      <td>Official figure</td>\n",
       "      <td>NaN</td>\n",
       "    </tr>\n",
       "  </tbody>\n",
       "</table>\n",
       "<p>224647 rows × 15 columns</p>\n",
       "</div>"
      ],
      "text/plain": [
       "       Domain Code                        Domain  Area Code (M49)  \\\n",
       "0              QCL  Crops and livestock products                4   \n",
       "1              QCL  Crops and livestock products                4   \n",
       "2              QCL  Crops and livestock products                4   \n",
       "3              QCL  Crops and livestock products                4   \n",
       "4              QCL  Crops and livestock products                4   \n",
       "...            ...                           ...              ...   \n",
       "224642         QCL  Crops and livestock products              716   \n",
       "224643         QCL  Crops and livestock products              716   \n",
       "224644         QCL  Crops and livestock products              716   \n",
       "224645         QCL  Crops and livestock products              716   \n",
       "224646         QCL  Crops and livestock products              716   \n",
       "\n",
       "               Area  Element Code         Element Item Code (CPC)  \\\n",
       "0       Afghanistan          5312  Area harvested            1371   \n",
       "1       Afghanistan          5412           Yield            1371   \n",
       "2       Afghanistan          5510      Production            1371   \n",
       "3       Afghanistan          5312  Area harvested            1371   \n",
       "4       Afghanistan          5412           Yield            1371   \n",
       "...             ...           ...             ...             ...   \n",
       "224642     Zimbabwe          5510      Production        22221.01   \n",
       "224643     Zimbabwe          5510      Production        22221.01   \n",
       "224644     Zimbabwe          5510      Production        22221.01   \n",
       "224645     Zimbabwe          5510      Production        22221.01   \n",
       "224646     Zimbabwe          5510      Production        24212.02   \n",
       "\n",
       "                          Item  Year Code  Year   Unit     Value Flag  \\\n",
       "0            Almonds, in shell       2019  2019     ha  29203.00    A   \n",
       "1            Almonds, in shell       2019  2019  kg/ha   1308.30    A   \n",
       "2            Almonds, in shell       2019  2019      t  38205.00    A   \n",
       "3            Almonds, in shell       2020  2020     ha  22134.00    A   \n",
       "4            Almonds, in shell       2020  2020  kg/ha   1775.90    A   \n",
       "...                        ...        ...   ...    ...       ...  ...   \n",
       "224642  Whole milk, evaporated       2019  2019      t   5010.21    I   \n",
       "224643  Whole milk, evaporated       2020  2020      t   4795.70    I   \n",
       "224644  Whole milk, evaporated       2021  2021      t   4921.05    I   \n",
       "224645  Whole milk, evaporated       2022  2022      t   4966.37    I   \n",
       "224646                    Wine       2019  2019      t       NaN    A   \n",
       "\n",
       "       Flag Description Note  \n",
       "0       Official figure  NaN  \n",
       "1       Official figure  NaN  \n",
       "2       Official figure  NaN  \n",
       "3       Official figure  NaN  \n",
       "4       Official figure  NaN  \n",
       "...                 ...  ...  \n",
       "224642    Imputed value  NaN  \n",
       "224643    Imputed value  NaN  \n",
       "224644    Imputed value  NaN  \n",
       "224645    Imputed value  NaN  \n",
       "224646  Official figure  NaN  \n",
       "\n",
       "[224647 rows x 15 columns]"
      ]
     },
     "execution_count": 2,
     "metadata": {},
     "output_type": "execute_result"
    }
   ],
   "source": [
    "df1 = pd.read_csv(\"FAOSTAT_data.csv\")\n",
    "df1"
   ]
  },
  {
   "cell_type": "code",
   "execution_count": 3,
   "id": "c8714ef0",
   "metadata": {},
   "outputs": [
    {
     "name": "stdout",
     "output_type": "stream",
     "text": [
      "<class 'pandas.core.frame.DataFrame'>\n",
      "RangeIndex: 224647 entries, 0 to 224646\n",
      "Data columns (total 15 columns):\n",
      " #   Column            Non-Null Count   Dtype  \n",
      "---  ------            --------------   -----  \n",
      " 0   Domain Code       224647 non-null  object \n",
      " 1   Domain            224647 non-null  object \n",
      " 2   Area Code (M49)   224647 non-null  int64  \n",
      " 3   Area              224647 non-null  object \n",
      " 4   Element Code      224647 non-null  int64  \n",
      " 5   Element           224647 non-null  object \n",
      " 6   Item Code (CPC)   224642 non-null  object \n",
      " 7   Item              224647 non-null  object \n",
      " 8   Year Code         224647 non-null  int64  \n",
      " 9   Year              224647 non-null  int64  \n",
      " 10  Unit              224645 non-null  object \n",
      " 11  Value             218130 non-null  float64\n",
      " 12  Flag              224643 non-null  object \n",
      " 13  Flag Description  224634 non-null  object \n",
      " 14  Note              5098 non-null    object \n",
      "dtypes: float64(1), int64(4), object(10)\n",
      "memory usage: 25.7+ MB\n"
     ]
    }
   ],
   "source": [
    "df1.info()"
   ]
  },
  {
   "cell_type": "code",
   "execution_count": 4,
   "id": "60f75bc3",
   "metadata": {},
   "outputs": [
    {
     "data": {
      "application/vnd.microsoft.datawrangler.viewer.v0+json": {
       "columns": [
        {
         "name": "index",
         "rawType": "int64",
         "type": "integer"
        },
        {
         "name": "Area",
         "rawType": "object",
         "type": "string"
        },
        {
         "name": "Element",
         "rawType": "object",
         "type": "string"
        },
        {
         "name": "Item",
         "rawType": "object",
         "type": "string"
        },
        {
         "name": "Year",
         "rawType": "int64",
         "type": "integer"
        },
        {
         "name": "Unit",
         "rawType": "object",
         "type": "unknown"
        },
        {
         "name": "Value",
         "rawType": "float64",
         "type": "float"
        }
       ],
       "ref": "6e24f24a-3cb6-4535-b93c-72a5152de87f",
       "rows": [
        [
         "0",
         "Afghanistan",
         "Area harvested",
         "Almonds, in shell",
         "2019",
         "ha",
         "29203.0"
        ],
        [
         "1",
         "Afghanistan",
         "Yield",
         "Almonds, in shell",
         "2019",
         "kg/ha",
         "1308.3"
        ],
        [
         "2",
         "Afghanistan",
         "Production",
         "Almonds, in shell",
         "2019",
         "t",
         "38205.0"
        ],
        [
         "3",
         "Afghanistan",
         "Area harvested",
         "Almonds, in shell",
         "2020",
         "ha",
         "22134.0"
        ],
        [
         "4",
         "Afghanistan",
         "Yield",
         "Almonds, in shell",
         "2020",
         "kg/ha",
         "1775.9"
        ],
        [
         "5",
         "Afghanistan",
         "Production",
         "Almonds, in shell",
         "2020",
         "t",
         "39307.0"
        ],
        [
         "6",
         "Afghanistan",
         "Area harvested",
         "Almonds, in shell",
         "2021",
         "ha",
         "36862.0"
        ],
        [
         "7",
         "Afghanistan",
         "Yield",
         "Almonds, in shell",
         "2021",
         "kg/ha",
         "1743.2"
        ],
        [
         "8",
         "Afghanistan",
         "Production",
         "Almonds, in shell",
         "2021",
         "t",
         "64256.0"
        ],
        [
         "9",
         "Afghanistan",
         "Area harvested",
         "Almonds, in shell",
         "2022",
         "ha",
         "36462.0"
        ],
        [
         "10",
         "Afghanistan",
         "Yield",
         "Almonds, in shell",
         "2022",
         "kg/ha",
         "1742.0"
        ],
        [
         "11",
         "Afghanistan",
         "Production",
         "Almonds, in shell",
         "2022",
         "t",
         "63515.0"
        ],
        [
         "12",
         "Afghanistan",
         "Area harvested",
         "Almonds, in shell",
         "2023",
         "ha",
         "37000.0"
        ],
        [
         "13",
         "Afghanistan",
         "Yield",
         "Almonds, in shell",
         "2023",
         "kg/ha",
         "1810.8"
        ],
        [
         "14",
         "Afghanistan",
         "Production",
         "Almonds, in shell",
         "2023",
         "t",
         "67000.0"
        ],
        [
         "15",
         "Afghanistan",
         "Area harvested",
         "Anise, badian, coriander, cumin, caraway, fennel and juniper berries, raw",
         "2019",
         "ha",
         "25293.0"
        ],
        [
         "16",
         "Afghanistan",
         "Yield",
         "Anise, badian, coriander, cumin, caraway, fennel and juniper berries, raw",
         "2019",
         "kg/ha",
         "704.1"
        ],
        [
         "17",
         "Afghanistan",
         "Production",
         "Anise, badian, coriander, cumin, caraway, fennel and juniper berries, raw",
         "2019",
         "t",
         "17807.76"
        ],
        [
         "18",
         "Afghanistan",
         "Area harvested",
         "Anise, badian, coriander, cumin, caraway, fennel and juniper berries, raw",
         "2020",
         "ha",
         "25558.0"
        ],
        [
         "19",
         "Afghanistan",
         "Yield",
         "Anise, badian, coriander, cumin, caraway, fennel and juniper berries, raw",
         "2020",
         "kg/ha",
         "703.0"
        ],
        [
         "20",
         "Afghanistan",
         "Production",
         "Anise, badian, coriander, cumin, caraway, fennel and juniper berries, raw",
         "2020",
         "t",
         "17965.9"
        ],
        [
         "21",
         "Afghanistan",
         "Area harvested",
         "Anise, badian, coriander, cumin, caraway, fennel and juniper berries, raw",
         "2021",
         "ha",
         "25357.0"
        ],
        [
         "22",
         "Afghanistan",
         "Yield",
         "Anise, badian, coriander, cumin, caraway, fennel and juniper berries, raw",
         "2021",
         "kg/ha",
         "705.0"
        ],
        [
         "23",
         "Afghanistan",
         "Production",
         "Anise, badian, coriander, cumin, caraway, fennel and juniper berries, raw",
         "2021",
         "t",
         "17876.49"
        ],
        [
         "24",
         "Afghanistan",
         "Area harvested",
         "Anise, badian, coriander, cumin, caraway, fennel and juniper berries, raw",
         "2022",
         "ha",
         "25403.0"
        ],
        [
         "25",
         "Afghanistan",
         "Yield",
         "Anise, badian, coriander, cumin, caraway, fennel and juniper berries, raw",
         "2022",
         "kg/ha",
         "704.0"
        ],
        [
         "26",
         "Afghanistan",
         "Production",
         "Anise, badian, coriander, cumin, caraway, fennel and juniper berries, raw",
         "2022",
         "t",
         "17883.38"
        ],
        [
         "27",
         "Afghanistan",
         "Area harvested",
         "Anise, badian, coriander, cumin, caraway, fennel and juniper berries, raw",
         "2023",
         "ha",
         "25439.0"
        ],
        [
         "28",
         "Afghanistan",
         "Yield",
         "Anise, badian, coriander, cumin, caraway, fennel and juniper berries, raw",
         "2023",
         "kg/ha",
         "704.0"
        ],
        [
         "29",
         "Afghanistan",
         "Production",
         "Anise, badian, coriander, cumin, caraway, fennel and juniper berries, raw",
         "2023",
         "t",
         "17908.59"
        ],
        [
         "30",
         "Afghanistan",
         "Area harvested",
         "Apples",
         "2019",
         "ha",
         "27559.0"
        ],
        [
         "31",
         "Afghanistan",
         "Yield",
         "Apples",
         "2019",
         "kg/ha",
         "9083.2"
        ],
        [
         "32",
         "Afghanistan",
         "Production",
         "Apples",
         "2019",
         "t",
         "250324.0"
        ],
        [
         "33",
         "Afghanistan",
         "Area harvested",
         "Apples",
         "2020",
         "ha",
         "25643.0"
        ],
        [
         "34",
         "Afghanistan",
         "Yield",
         "Apples",
         "2020",
         "kg/ha",
         "10562.6"
        ],
        [
         "35",
         "Afghanistan",
         "Production",
         "Apples",
         "2020",
         "t",
         "270857.0"
        ],
        [
         "36",
         "Afghanistan",
         "Area harvested",
         "Apples",
         "2021",
         "ha",
         "30463.0"
        ],
        [
         "37",
         "Afghanistan",
         "Yield",
         "Apples",
         "2021",
         "kg/ha",
         "10559.4"
        ],
        [
         "38",
         "Afghanistan",
         "Production",
         "Apples",
         "2021",
         "t",
         "321672.0"
        ],
        [
         "39",
         "Afghanistan",
         "Area harvested",
         "Apples",
         "2022",
         "ha",
         "30163.0"
        ],
        [
         "40",
         "Afghanistan",
         "Yield",
         "Apples",
         "2022",
         "kg/ha",
         "10556.0"
        ],
        [
         "41",
         "Afghanistan",
         "Production",
         "Apples",
         "2022",
         "t",
         "318402.0"
        ],
        [
         "42",
         "Afghanistan",
         "Area harvested",
         "Apples",
         "2023",
         "ha",
         "31000.0"
        ],
        [
         "43",
         "Afghanistan",
         "Yield",
         "Apples",
         "2023",
         "kg/ha",
         "10451.6"
        ],
        [
         "44",
         "Afghanistan",
         "Production",
         "Apples",
         "2023",
         "t",
         "324000.0"
        ],
        [
         "45",
         "Afghanistan",
         "Area harvested",
         "Apricots",
         "2019",
         "ha",
         "17719.0"
        ],
        [
         "46",
         "Afghanistan",
         "Yield",
         "Apricots",
         "2019",
         "kg/ha",
         "7300.8"
        ],
        [
         "47",
         "Afghanistan",
         "Production",
         "Apricots",
         "2019",
         "t",
         "129363.0"
        ],
        [
         "48",
         "Afghanistan",
         "Area harvested",
         "Apricots",
         "2020",
         "ha",
         "17481.0"
        ],
        [
         "49",
         "Afghanistan",
         "Yield",
         "Apricots",
         "2020",
         "kg/ha",
         "7538.9"
        ]
       ],
       "shape": {
        "columns": 6,
        "rows": 224647
       }
      },
      "text/html": [
       "<div>\n",
       "<style scoped>\n",
       "    .dataframe tbody tr th:only-of-type {\n",
       "        vertical-align: middle;\n",
       "    }\n",
       "\n",
       "    .dataframe tbody tr th {\n",
       "        vertical-align: top;\n",
       "    }\n",
       "\n",
       "    .dataframe thead th {\n",
       "        text-align: right;\n",
       "    }\n",
       "</style>\n",
       "<table border=\"1\" class=\"dataframe\">\n",
       "  <thead>\n",
       "    <tr style=\"text-align: right;\">\n",
       "      <th></th>\n",
       "      <th>Area</th>\n",
       "      <th>Element</th>\n",
       "      <th>Item</th>\n",
       "      <th>Year</th>\n",
       "      <th>Unit</th>\n",
       "      <th>Value</th>\n",
       "    </tr>\n",
       "  </thead>\n",
       "  <tbody>\n",
       "    <tr>\n",
       "      <th>0</th>\n",
       "      <td>Afghanistan</td>\n",
       "      <td>Area harvested</td>\n",
       "      <td>Almonds, in shell</td>\n",
       "      <td>2019</td>\n",
       "      <td>ha</td>\n",
       "      <td>29203.00</td>\n",
       "    </tr>\n",
       "    <tr>\n",
       "      <th>1</th>\n",
       "      <td>Afghanistan</td>\n",
       "      <td>Yield</td>\n",
       "      <td>Almonds, in shell</td>\n",
       "      <td>2019</td>\n",
       "      <td>kg/ha</td>\n",
       "      <td>1308.30</td>\n",
       "    </tr>\n",
       "    <tr>\n",
       "      <th>2</th>\n",
       "      <td>Afghanistan</td>\n",
       "      <td>Production</td>\n",
       "      <td>Almonds, in shell</td>\n",
       "      <td>2019</td>\n",
       "      <td>t</td>\n",
       "      <td>38205.00</td>\n",
       "    </tr>\n",
       "    <tr>\n",
       "      <th>3</th>\n",
       "      <td>Afghanistan</td>\n",
       "      <td>Area harvested</td>\n",
       "      <td>Almonds, in shell</td>\n",
       "      <td>2020</td>\n",
       "      <td>ha</td>\n",
       "      <td>22134.00</td>\n",
       "    </tr>\n",
       "    <tr>\n",
       "      <th>4</th>\n",
       "      <td>Afghanistan</td>\n",
       "      <td>Yield</td>\n",
       "      <td>Almonds, in shell</td>\n",
       "      <td>2020</td>\n",
       "      <td>kg/ha</td>\n",
       "      <td>1775.90</td>\n",
       "    </tr>\n",
       "    <tr>\n",
       "      <th>...</th>\n",
       "      <td>...</td>\n",
       "      <td>...</td>\n",
       "      <td>...</td>\n",
       "      <td>...</td>\n",
       "      <td>...</td>\n",
       "      <td>...</td>\n",
       "    </tr>\n",
       "    <tr>\n",
       "      <th>224642</th>\n",
       "      <td>Zimbabwe</td>\n",
       "      <td>Production</td>\n",
       "      <td>Whole milk, evaporated</td>\n",
       "      <td>2019</td>\n",
       "      <td>t</td>\n",
       "      <td>5010.21</td>\n",
       "    </tr>\n",
       "    <tr>\n",
       "      <th>224643</th>\n",
       "      <td>Zimbabwe</td>\n",
       "      <td>Production</td>\n",
       "      <td>Whole milk, evaporated</td>\n",
       "      <td>2020</td>\n",
       "      <td>t</td>\n",
       "      <td>4795.70</td>\n",
       "    </tr>\n",
       "    <tr>\n",
       "      <th>224644</th>\n",
       "      <td>Zimbabwe</td>\n",
       "      <td>Production</td>\n",
       "      <td>Whole milk, evaporated</td>\n",
       "      <td>2021</td>\n",
       "      <td>t</td>\n",
       "      <td>4921.05</td>\n",
       "    </tr>\n",
       "    <tr>\n",
       "      <th>224645</th>\n",
       "      <td>Zimbabwe</td>\n",
       "      <td>Production</td>\n",
       "      <td>Whole milk, evaporated</td>\n",
       "      <td>2022</td>\n",
       "      <td>t</td>\n",
       "      <td>4966.37</td>\n",
       "    </tr>\n",
       "    <tr>\n",
       "      <th>224646</th>\n",
       "      <td>Zimbabwe</td>\n",
       "      <td>Production</td>\n",
       "      <td>Wine</td>\n",
       "      <td>2019</td>\n",
       "      <td>t</td>\n",
       "      <td>NaN</td>\n",
       "    </tr>\n",
       "  </tbody>\n",
       "</table>\n",
       "<p>224647 rows × 6 columns</p>\n",
       "</div>"
      ],
      "text/plain": [
       "               Area         Element                    Item  Year   Unit  \\\n",
       "0       Afghanistan  Area harvested       Almonds, in shell  2019     ha   \n",
       "1       Afghanistan           Yield       Almonds, in shell  2019  kg/ha   \n",
       "2       Afghanistan      Production       Almonds, in shell  2019      t   \n",
       "3       Afghanistan  Area harvested       Almonds, in shell  2020     ha   \n",
       "4       Afghanistan           Yield       Almonds, in shell  2020  kg/ha   \n",
       "...             ...             ...                     ...   ...    ...   \n",
       "224642     Zimbabwe      Production  Whole milk, evaporated  2019      t   \n",
       "224643     Zimbabwe      Production  Whole milk, evaporated  2020      t   \n",
       "224644     Zimbabwe      Production  Whole milk, evaporated  2021      t   \n",
       "224645     Zimbabwe      Production  Whole milk, evaporated  2022      t   \n",
       "224646     Zimbabwe      Production                    Wine  2019      t   \n",
       "\n",
       "           Value  \n",
       "0       29203.00  \n",
       "1        1308.30  \n",
       "2       38205.00  \n",
       "3       22134.00  \n",
       "4        1775.90  \n",
       "...          ...  \n",
       "224642   5010.21  \n",
       "224643   4795.70  \n",
       "224644   4921.05  \n",
       "224645   4966.37  \n",
       "224646       NaN  \n",
       "\n",
       "[224647 rows x 6 columns]"
      ]
     },
     "execution_count": 4,
     "metadata": {},
     "output_type": "execute_result"
    }
   ],
   "source": [
    "df1 = df1.drop(columns=['Domain Code','Domain','Area Code (M49)','Element Code','Item Code (CPC)','Note','Year Code','Flag','Flag Description'])\n",
    "df1"
   ]
  },
  {
   "cell_type": "code",
   "execution_count": 5,
   "id": "fdd7d05e",
   "metadata": {},
   "outputs": [
    {
     "name": "stdout",
     "output_type": "stream",
     "text": [
      "       Count   Percent\n",
      "Value   6517  2.900996\n",
      "Unit       2  0.000890\n"
     ]
    }
   ],
   "source": [
    "missing_count = df1.isnull().sum()\n",
    "missing_percent = (missing_count / len(df1)) * 100\n",
    "\n",
    "summary = pd.concat([missing_count,missing_percent],axis=1, keys=['Count','Percent'])\n",
    "print(summary[summary['Count'] > 0].sort_values('Count', ascending=False))"
   ]
  },
  {
   "cell_type": "code",
   "execution_count": 6,
   "id": "c688e4ab",
   "metadata": {},
   "outputs": [],
   "source": [
    "# Cleaning Area column\n",
    "df1['Area']= df1['Area'].replace(\n",
    "    {\"China, Taiwan Province of\": \"Taiwan\",\n",
    "     \"China, mainland\":\"China\",\n",
    "     \"China, Hong Kong SAR\":\"Hong Kong\",\n",
    "     \"T�rkiye\":\"Turkey\",\n",
    "     \"C�te d'Ivoire\":\"Cote d'Ivoire\",\n",
    "     \"Venezuela (Bolivarian Republic of)\":\"Venezuela\",\n",
    "     \"Micronesia (Federated States of)\":\"Micronesia\",\n",
    "     \"Bolivia (Plurinational State of)\":\"Bolivia\",\n",
    "     \"Democratic People's Republic of Korea\":\"N.Korea\",\n",
    "     \"Iran (Islamic Republic of)\":\"Iran\",\n",
    "     \"Lao People's Democratic Republic\":\"Laos\",\n",
    "     \"Micronesia (Federated States of)\":\"Micronesia\",\n",
    "     \"Netherlands (Kingdom of the)\":\"Netherlands\",\n",
    "     \"United Kingdom of Great Britain and Northern Ireland\":\"UK\",\n",
    "     \"United States of America\":\"USA\"}\n",
    ")"
   ]
  },
  {
   "cell_type": "code",
   "execution_count": 7,
   "id": "be048b30",
   "metadata": {},
   "outputs": [],
   "source": [
    "cc = coco.CountryConverter()\n",
    "df1['continent'] = df1['Area'].apply(lambda x: cc.convert(names=x, to='continent', not_found=None))"
   ]
  },
  {
   "cell_type": "code",
   "execution_count": 8,
   "id": "35d434ee",
   "metadata": {},
   "outputs": [
    {
     "data": {
      "text/plain": [
       "['Asia', 'Europe', 'Africa', 'America', 'Oceania']"
      ]
     },
     "execution_count": 8,
     "metadata": {},
     "output_type": "execute_result"
    }
   ],
   "source": [
    "continent_list = list(df1['continent'].unique())\n",
    "continent_list"
   ]
  },
  {
   "cell_type": "code",
   "execution_count": 7,
   "id": "c791613d",
   "metadata": {},
   "outputs": [],
   "source": [
    "df1.to_csv('draft.csv')"
   ]
  },
  {
   "cell_type": "code",
   "execution_count": 8,
   "id": "184bac1a",
   "metadata": {},
   "outputs": [
    {
     "data": {
      "application/vnd.microsoft.datawrangler.viewer.v0+json": {
       "columns": [
        {
         "name": "index",
         "rawType": "int64",
         "type": "integer"
        },
        {
         "name": "Area",
         "rawType": "object",
         "type": "string"
        },
        {
         "name": "Element",
         "rawType": "object",
         "type": "string"
        },
        {
         "name": "Item",
         "rawType": "object",
         "type": "string"
        },
        {
         "name": "Year",
         "rawType": "int64",
         "type": "integer"
        },
        {
         "name": "Unit",
         "rawType": "object",
         "type": "unknown"
        },
        {
         "name": "Value",
         "rawType": "float64",
         "type": "float"
        }
       ],
       "ref": "e0a1747e-5a5e-4193-9627-4ccda870e847",
       "rows": [
        [
         "0",
         "Afghanistan",
         "Area harvested",
         "Almonds, in shell",
         "2019",
         "ha",
         "29203.0"
        ],
        [
         "1",
         "Afghanistan",
         "Yield",
         "Almonds, in shell",
         "2019",
         "kg/ha",
         "1308.3"
        ],
        [
         "2",
         "Afghanistan",
         "Production",
         "Almonds, in shell",
         "2019",
         "t",
         "38205.0"
        ],
        [
         "3",
         "Afghanistan",
         "Area harvested",
         "Almonds, in shell",
         "2020",
         "ha",
         "22134.0"
        ],
        [
         "4",
         "Afghanistan",
         "Yield",
         "Almonds, in shell",
         "2020",
         "kg/ha",
         "1775.9"
        ],
        [
         "5",
         "Afghanistan",
         "Production",
         "Almonds, in shell",
         "2020",
         "t",
         "39307.0"
        ],
        [
         "6",
         "Afghanistan",
         "Area harvested",
         "Almonds, in shell",
         "2021",
         "ha",
         "36862.0"
        ],
        [
         "7",
         "Afghanistan",
         "Yield",
         "Almonds, in shell",
         "2021",
         "kg/ha",
         "1743.2"
        ],
        [
         "8",
         "Afghanistan",
         "Production",
         "Almonds, in shell",
         "2021",
         "t",
         "64256.0"
        ],
        [
         "9",
         "Afghanistan",
         "Area harvested",
         "Almonds, in shell",
         "2022",
         "ha",
         "36462.0"
        ],
        [
         "10",
         "Afghanistan",
         "Yield",
         "Almonds, in shell",
         "2022",
         "kg/ha",
         "1742.0"
        ],
        [
         "11",
         "Afghanistan",
         "Production",
         "Almonds, in shell",
         "2022",
         "t",
         "63515.0"
        ],
        [
         "12",
         "Afghanistan",
         "Area harvested",
         "Almonds, in shell",
         "2023",
         "ha",
         "37000.0"
        ],
        [
         "13",
         "Afghanistan",
         "Yield",
         "Almonds, in shell",
         "2023",
         "kg/ha",
         "1810.8"
        ],
        [
         "14",
         "Afghanistan",
         "Production",
         "Almonds, in shell",
         "2023",
         "t",
         "67000.0"
        ],
        [
         "15",
         "Afghanistan",
         "Area harvested",
         "Anise, badian, coriander, cumin, caraway, fennel and juniper berries, raw",
         "2019",
         "ha",
         "25293.0"
        ],
        [
         "16",
         "Afghanistan",
         "Yield",
         "Anise, badian, coriander, cumin, caraway, fennel and juniper berries, raw",
         "2019",
         "kg/ha",
         "704.1"
        ],
        [
         "17",
         "Afghanistan",
         "Production",
         "Anise, badian, coriander, cumin, caraway, fennel and juniper berries, raw",
         "2019",
         "t",
         "17807.76"
        ],
        [
         "18",
         "Afghanistan",
         "Area harvested",
         "Anise, badian, coriander, cumin, caraway, fennel and juniper berries, raw",
         "2020",
         "ha",
         "25558.0"
        ],
        [
         "19",
         "Afghanistan",
         "Yield",
         "Anise, badian, coriander, cumin, caraway, fennel and juniper berries, raw",
         "2020",
         "kg/ha",
         "703.0"
        ],
        [
         "20",
         "Afghanistan",
         "Production",
         "Anise, badian, coriander, cumin, caraway, fennel and juniper berries, raw",
         "2020",
         "t",
         "17965.9"
        ],
        [
         "21",
         "Afghanistan",
         "Area harvested",
         "Anise, badian, coriander, cumin, caraway, fennel and juniper berries, raw",
         "2021",
         "ha",
         "25357.0"
        ],
        [
         "22",
         "Afghanistan",
         "Yield",
         "Anise, badian, coriander, cumin, caraway, fennel and juniper berries, raw",
         "2021",
         "kg/ha",
         "705.0"
        ],
        [
         "23",
         "Afghanistan",
         "Production",
         "Anise, badian, coriander, cumin, caraway, fennel and juniper berries, raw",
         "2021",
         "t",
         "17876.49"
        ],
        [
         "24",
         "Afghanistan",
         "Area harvested",
         "Anise, badian, coriander, cumin, caraway, fennel and juniper berries, raw",
         "2022",
         "ha",
         "25403.0"
        ],
        [
         "25",
         "Afghanistan",
         "Yield",
         "Anise, badian, coriander, cumin, caraway, fennel and juniper berries, raw",
         "2022",
         "kg/ha",
         "704.0"
        ],
        [
         "26",
         "Afghanistan",
         "Production",
         "Anise, badian, coriander, cumin, caraway, fennel and juniper berries, raw",
         "2022",
         "t",
         "17883.38"
        ],
        [
         "27",
         "Afghanistan",
         "Area harvested",
         "Anise, badian, coriander, cumin, caraway, fennel and juniper berries, raw",
         "2023",
         "ha",
         "25439.0"
        ],
        [
         "28",
         "Afghanistan",
         "Yield",
         "Anise, badian, coriander, cumin, caraway, fennel and juniper berries, raw",
         "2023",
         "kg/ha",
         "704.0"
        ],
        [
         "29",
         "Afghanistan",
         "Production",
         "Anise, badian, coriander, cumin, caraway, fennel and juniper berries, raw",
         "2023",
         "t",
         "17908.59"
        ],
        [
         "30",
         "Afghanistan",
         "Area harvested",
         "Apples",
         "2019",
         "ha",
         "27559.0"
        ],
        [
         "31",
         "Afghanistan",
         "Yield",
         "Apples",
         "2019",
         "kg/ha",
         "9083.2"
        ],
        [
         "32",
         "Afghanistan",
         "Production",
         "Apples",
         "2019",
         "t",
         "250324.0"
        ],
        [
         "33",
         "Afghanistan",
         "Area harvested",
         "Apples",
         "2020",
         "ha",
         "25643.0"
        ],
        [
         "34",
         "Afghanistan",
         "Yield",
         "Apples",
         "2020",
         "kg/ha",
         "10562.6"
        ],
        [
         "35",
         "Afghanistan",
         "Production",
         "Apples",
         "2020",
         "t",
         "270857.0"
        ],
        [
         "36",
         "Afghanistan",
         "Area harvested",
         "Apples",
         "2021",
         "ha",
         "30463.0"
        ],
        [
         "37",
         "Afghanistan",
         "Yield",
         "Apples",
         "2021",
         "kg/ha",
         "10559.4"
        ],
        [
         "38",
         "Afghanistan",
         "Production",
         "Apples",
         "2021",
         "t",
         "321672.0"
        ],
        [
         "39",
         "Afghanistan",
         "Area harvested",
         "Apples",
         "2022",
         "ha",
         "30163.0"
        ],
        [
         "40",
         "Afghanistan",
         "Yield",
         "Apples",
         "2022",
         "kg/ha",
         "10556.0"
        ],
        [
         "41",
         "Afghanistan",
         "Production",
         "Apples",
         "2022",
         "t",
         "318402.0"
        ],
        [
         "42",
         "Afghanistan",
         "Area harvested",
         "Apples",
         "2023",
         "ha",
         "31000.0"
        ],
        [
         "43",
         "Afghanistan",
         "Yield",
         "Apples",
         "2023",
         "kg/ha",
         "10451.6"
        ],
        [
         "44",
         "Afghanistan",
         "Production",
         "Apples",
         "2023",
         "t",
         "324000.0"
        ],
        [
         "45",
         "Afghanistan",
         "Area harvested",
         "Apricots",
         "2019",
         "ha",
         "17719.0"
        ],
        [
         "46",
         "Afghanistan",
         "Yield",
         "Apricots",
         "2019",
         "kg/ha",
         "7300.8"
        ],
        [
         "47",
         "Afghanistan",
         "Production",
         "Apricots",
         "2019",
         "t",
         "129363.0"
        ],
        [
         "48",
         "Afghanistan",
         "Area harvested",
         "Apricots",
         "2020",
         "ha",
         "17481.0"
        ],
        [
         "49",
         "Afghanistan",
         "Yield",
         "Apricots",
         "2020",
         "kg/ha",
         "7538.9"
        ]
       ],
       "shape": {
        "columns": 6,
        "rows": 224647
       }
      },
      "text/html": [
       "<div>\n",
       "<style scoped>\n",
       "    .dataframe tbody tr th:only-of-type {\n",
       "        vertical-align: middle;\n",
       "    }\n",
       "\n",
       "    .dataframe tbody tr th {\n",
       "        vertical-align: top;\n",
       "    }\n",
       "\n",
       "    .dataframe thead th {\n",
       "        text-align: right;\n",
       "    }\n",
       "</style>\n",
       "<table border=\"1\" class=\"dataframe\">\n",
       "  <thead>\n",
       "    <tr style=\"text-align: right;\">\n",
       "      <th></th>\n",
       "      <th>Area</th>\n",
       "      <th>Element</th>\n",
       "      <th>Item</th>\n",
       "      <th>Year</th>\n",
       "      <th>Unit</th>\n",
       "      <th>Value</th>\n",
       "    </tr>\n",
       "  </thead>\n",
       "  <tbody>\n",
       "    <tr>\n",
       "      <th>0</th>\n",
       "      <td>Afghanistan</td>\n",
       "      <td>Area harvested</td>\n",
       "      <td>Almonds, in shell</td>\n",
       "      <td>2019</td>\n",
       "      <td>ha</td>\n",
       "      <td>29203.00</td>\n",
       "    </tr>\n",
       "    <tr>\n",
       "      <th>1</th>\n",
       "      <td>Afghanistan</td>\n",
       "      <td>Yield</td>\n",
       "      <td>Almonds, in shell</td>\n",
       "      <td>2019</td>\n",
       "      <td>kg/ha</td>\n",
       "      <td>1308.30</td>\n",
       "    </tr>\n",
       "    <tr>\n",
       "      <th>2</th>\n",
       "      <td>Afghanistan</td>\n",
       "      <td>Production</td>\n",
       "      <td>Almonds, in shell</td>\n",
       "      <td>2019</td>\n",
       "      <td>t</td>\n",
       "      <td>38205.00</td>\n",
       "    </tr>\n",
       "    <tr>\n",
       "      <th>3</th>\n",
       "      <td>Afghanistan</td>\n",
       "      <td>Area harvested</td>\n",
       "      <td>Almonds, in shell</td>\n",
       "      <td>2020</td>\n",
       "      <td>ha</td>\n",
       "      <td>22134.00</td>\n",
       "    </tr>\n",
       "    <tr>\n",
       "      <th>4</th>\n",
       "      <td>Afghanistan</td>\n",
       "      <td>Yield</td>\n",
       "      <td>Almonds, in shell</td>\n",
       "      <td>2020</td>\n",
       "      <td>kg/ha</td>\n",
       "      <td>1775.90</td>\n",
       "    </tr>\n",
       "    <tr>\n",
       "      <th>...</th>\n",
       "      <td>...</td>\n",
       "      <td>...</td>\n",
       "      <td>...</td>\n",
       "      <td>...</td>\n",
       "      <td>...</td>\n",
       "      <td>...</td>\n",
       "    </tr>\n",
       "    <tr>\n",
       "      <th>224642</th>\n",
       "      <td>Zimbabwe</td>\n",
       "      <td>Production</td>\n",
       "      <td>Whole milk, evaporated</td>\n",
       "      <td>2019</td>\n",
       "      <td>t</td>\n",
       "      <td>5010.21</td>\n",
       "    </tr>\n",
       "    <tr>\n",
       "      <th>224643</th>\n",
       "      <td>Zimbabwe</td>\n",
       "      <td>Production</td>\n",
       "      <td>Whole milk, evaporated</td>\n",
       "      <td>2020</td>\n",
       "      <td>t</td>\n",
       "      <td>4795.70</td>\n",
       "    </tr>\n",
       "    <tr>\n",
       "      <th>224644</th>\n",
       "      <td>Zimbabwe</td>\n",
       "      <td>Production</td>\n",
       "      <td>Whole milk, evaporated</td>\n",
       "      <td>2021</td>\n",
       "      <td>t</td>\n",
       "      <td>4921.05</td>\n",
       "    </tr>\n",
       "    <tr>\n",
       "      <th>224645</th>\n",
       "      <td>Zimbabwe</td>\n",
       "      <td>Production</td>\n",
       "      <td>Whole milk, evaporated</td>\n",
       "      <td>2022</td>\n",
       "      <td>t</td>\n",
       "      <td>4966.37</td>\n",
       "    </tr>\n",
       "    <tr>\n",
       "      <th>224646</th>\n",
       "      <td>Zimbabwe</td>\n",
       "      <td>Production</td>\n",
       "      <td>Wine</td>\n",
       "      <td>2019</td>\n",
       "      <td>t</td>\n",
       "      <td>NaN</td>\n",
       "    </tr>\n",
       "  </tbody>\n",
       "</table>\n",
       "<p>224647 rows × 6 columns</p>\n",
       "</div>"
      ],
      "text/plain": [
       "               Area         Element                    Item  Year   Unit  \\\n",
       "0       Afghanistan  Area harvested       Almonds, in shell  2019     ha   \n",
       "1       Afghanistan           Yield       Almonds, in shell  2019  kg/ha   \n",
       "2       Afghanistan      Production       Almonds, in shell  2019      t   \n",
       "3       Afghanistan  Area harvested       Almonds, in shell  2020     ha   \n",
       "4       Afghanistan           Yield       Almonds, in shell  2020  kg/ha   \n",
       "...             ...             ...                     ...   ...    ...   \n",
       "224642     Zimbabwe      Production  Whole milk, evaporated  2019      t   \n",
       "224643     Zimbabwe      Production  Whole milk, evaporated  2020      t   \n",
       "224644     Zimbabwe      Production  Whole milk, evaporated  2021      t   \n",
       "224645     Zimbabwe      Production  Whole milk, evaporated  2022      t   \n",
       "224646     Zimbabwe      Production                    Wine  2019      t   \n",
       "\n",
       "           Value  \n",
       "0       29203.00  \n",
       "1        1308.30  \n",
       "2       38205.00  \n",
       "3       22134.00  \n",
       "4        1775.90  \n",
       "...          ...  \n",
       "224642   5010.21  \n",
       "224643   4795.70  \n",
       "224644   4921.05  \n",
       "224645   4966.37  \n",
       "224646       NaN  \n",
       "\n",
       "[224647 rows x 6 columns]"
      ]
     },
     "execution_count": 8,
     "metadata": {},
     "output_type": "execute_result"
    }
   ],
   "source": [
    "# Extracting draft data to see how the data is after removing the unwanted cols and adding continent column for further analysis\n",
    "df2 = pd.read_csv('draft.csv')\n",
    "df2.drop(columns = 'Unnamed: 0', inplace=True)\n",
    "df2"
   ]
  },
  {
   "cell_type": "code",
   "execution_count": 9,
   "id": "e9949856",
   "metadata": {},
   "outputs": [
    {
     "name": "stdout",
     "output_type": "stream",
     "text": [
      "<class 'pandas.core.frame.DataFrame'>\n",
      "RangeIndex: 224647 entries, 0 to 224646\n",
      "Data columns (total 6 columns):\n",
      " #   Column   Non-Null Count   Dtype  \n",
      "---  ------   --------------   -----  \n",
      " 0   Area     224647 non-null  object \n",
      " 1   Element  224647 non-null  object \n",
      " 2   Item     224647 non-null  object \n",
      " 3   Year     224647 non-null  int64  \n",
      " 4   Unit     224645 non-null  object \n",
      " 5   Value    218130 non-null  float64\n",
      "dtypes: float64(1), int64(1), object(4)\n",
      "memory usage: 10.3+ MB\n"
     ]
    }
   ],
   "source": [
    "df2.info()"
   ]
  },
  {
   "cell_type": "code",
   "execution_count": 13,
   "id": "5aafd257",
   "metadata": {},
   "outputs": [
    {
     "data": {
      "application/vnd.microsoft.datawrangler.viewer.v0+json": {
       "columns": [
        {
         "name": "index",
         "rawType": "object",
         "type": "string"
        },
        {
         "name": "0",
         "rawType": "int64",
         "type": "integer"
        }
       ],
       "ref": "35e26b49-3597-438b-9702-271860df04f8",
       "rows": [
        [
         "Area",
         "0"
        ],
        [
         "Element",
         "0"
        ],
        [
         "Item",
         "0"
        ],
        [
         "Year",
         "0"
        ],
        [
         "Unit",
         "2"
        ],
        [
         "Value",
         "6517"
        ],
        [
         "continent",
         "0"
        ]
       ],
       "shape": {
        "columns": 1,
        "rows": 7
       }
      },
      "text/plain": [
       "Area            0\n",
       "Element         0\n",
       "Item            0\n",
       "Year            0\n",
       "Unit            2\n",
       "Value        6517\n",
       "continent       0\n",
       "dtype: int64"
      ]
     },
     "execution_count": 13,
     "metadata": {},
     "output_type": "execute_result"
    }
   ],
   "source": [
    "df2.isnull().sum()"
   ]
  },
  {
   "cell_type": "code",
   "execution_count": 10,
   "id": "1ffca1e6",
   "metadata": {},
   "outputs": [
    {
     "name": "stdout",
     "output_type": "stream",
     "text": [
      "       Count   Percent\n",
      "Value   6517  2.900996\n",
      "Unit       2  0.000890\n"
     ]
    }
   ],
   "source": [
    "missing_count = df2.isnull().sum()\n",
    "missing_percent = (missing_count/len(df2)) * 100\n",
    "summary = pd.concat(\n",
    "    [missing_count,missing_percent],axis=1, keys=['Count','Percent']\n",
    ")\n",
    "print(summary[summary['Count'] > 0].sort_values('Count', ascending=False))"
   ]
  },
  {
   "cell_type": "code",
   "execution_count": 11,
   "id": "c3bb093f",
   "metadata": {},
   "outputs": [
    {
     "data": {
      "text/plain": [
       "np.int64(1072)"
      ]
     },
     "execution_count": 11,
     "metadata": {},
     "output_type": "execute_result"
    }
   ],
   "source": [
    "# Checking for duplicate values\n",
    "df2.duplicated().sum()"
   ]
  },
  {
   "cell_type": "code",
   "execution_count": 12,
   "id": "6e59cd88",
   "metadata": {},
   "outputs": [],
   "source": [
    "# Duplicates values are removed\n",
    "df2 = df2.drop_duplicates(keep=False)"
   ]
  },
  {
   "cell_type": "code",
   "execution_count": 13,
   "id": "4c6715c2",
   "metadata": {},
   "outputs": [],
   "source": [
    "# Data Transformation\n",
    "# Filtering the data based on Elements and renaming the value columns\n",
    "production_df = df2[df2['Element']=='Production'][['Area','Item','Year','Value']].rename(columns={'Value':'production_in_t'})\n",
    "area_df = df2[df2['Element']=='Area harvested'][['Area','Item','Year','Value']].rename(columns={'Value':'area_in_h'})\n",
    "yield_df = df2[df2['Element']=='Yield'][['Area','Item','Year','Value']].rename(columns={'Value':'yield_in_kg_per_h'})"
   ]
  },
  {
   "cell_type": "code",
   "execution_count": 14,
   "id": "8fcfb4db",
   "metadata": {},
   "outputs": [],
   "source": [
    "# Merging the data based on area, item and year\n",
    "df = production_df.merge(area_df,on=['Area','Item','Year'], how ='outer')\n",
    "df = df.merge(yield_df,on=['Area','Item','Year'], how ='outer')"
   ]
  },
  {
   "cell_type": "code",
   "execution_count": 15,
   "id": "1d357176",
   "metadata": {},
   "outputs": [],
   "source": [
    "# Rounding off the values in the area, production and yield columns\n",
    "df['area_in_h'] = df['area_in_h'].round()\n",
    "df['production_in_t']=df['production_in_t'].round()\n",
    "df['yield_in_kg_per_h']=df['yield_in_kg_per_h'].round()"
   ]
  },
  {
   "cell_type": "code",
   "execution_count": null,
   "id": "70fb2641",
   "metadata": {},
   "outputs": [],
   "source": [
    "# df['area_in_h'] = df['area_in_h']/1000\n",
    "# df['production_in_t'] = df['production_in_t']/1000\n",
    "# df['yield_in_kg_per_h'] = df['yield_in_kg_per_h']/100"
   ]
  },
  {
   "cell_type": "code",
   "execution_count": 38,
   "id": "301b45f5",
   "metadata": {},
   "outputs": [],
   "source": [
    "# Converting the Year column to datetime format\n",
    "df['Year']= pd.to_datetime(df['Year'])"
   ]
  },
  {
   "cell_type": "code",
   "execution_count": 16,
   "id": "e9f1b03f",
   "metadata": {},
   "outputs": [],
   "source": [
    "df.rename(\n",
    "    columns = {'Area':'Country'}, inplace=True\n",
    ")"
   ]
  },
  {
   "cell_type": "code",
   "execution_count": 52,
   "id": "02f51655",
   "metadata": {},
   "outputs": [],
   "source": [
    "df['Year'] = df['Year'].astype(str).str[-4:].astype(int)"
   ]
  },
  {
   "cell_type": "code",
   "execution_count": 17,
   "id": "62bf6353",
   "metadata": {},
   "outputs": [],
   "source": [
    "# Replacing the missing values as np.nan\n",
    "df.replace([\"\", \"Missing value\", \"-\", \"null\", \"NA\"], np.nan, inplace=True)"
   ]
  },
  {
   "cell_type": "code",
   "execution_count": 18,
   "id": "348d3dc5",
   "metadata": {},
   "outputs": [
    {
     "data": {
      "application/vnd.microsoft.datawrangler.viewer.v0+json": {
       "columns": [
        {
         "name": "index",
         "rawType": "int64",
         "type": "integer"
        },
        {
         "name": "Country",
         "rawType": "object",
         "type": "string"
        },
        {
         "name": "Item",
         "rawType": "object",
         "type": "string"
        },
        {
         "name": "Year",
         "rawType": "int64",
         "type": "integer"
        },
        {
         "name": "production_in_t",
         "rawType": "float64",
         "type": "float"
        },
        {
         "name": "area_in_h",
         "rawType": "float64",
         "type": "float"
        },
        {
         "name": "yield_in_kg_per_h",
         "rawType": "float64",
         "type": "float"
        }
       ],
       "ref": "a7cd9cba-b25f-4166-ab92-0a4bf1eaa68e",
       "rows": [
        [
         "0",
         "Afghanistan",
         "Almonds, in shell",
         "2019",
         "38205.0",
         "29203.0",
         "1308.0"
        ],
        [
         "1",
         "Afghanistan",
         "Almonds, in shell",
         "2020",
         "39307.0",
         "22134.0",
         "1776.0"
        ],
        [
         "2",
         "Afghanistan",
         "Almonds, in shell",
         "2021",
         "64256.0",
         "36862.0",
         "1743.0"
        ],
        [
         "3",
         "Afghanistan",
         "Almonds, in shell",
         "2022",
         "63515.0",
         "36462.0",
         "1742.0"
        ],
        [
         "4",
         "Afghanistan",
         "Almonds, in shell",
         "2023",
         "67000.0",
         "37000.0",
         "1811.0"
        ],
        [
         "5",
         "Afghanistan",
         "Anise, badian, coriander, cumin, caraway, fennel and juniper berries, raw",
         "2019",
         "17808.0",
         "25293.0",
         "704.0"
        ],
        [
         "6",
         "Afghanistan",
         "Anise, badian, coriander, cumin, caraway, fennel and juniper berries, raw",
         "2020",
         "17966.0",
         "25558.0",
         "703.0"
        ],
        [
         "7",
         "Afghanistan",
         "Anise, badian, coriander, cumin, caraway, fennel and juniper berries, raw",
         "2021",
         "17876.0",
         "25357.0",
         "705.0"
        ],
        [
         "8",
         "Afghanistan",
         "Anise, badian, coriander, cumin, caraway, fennel and juniper berries, raw",
         "2022",
         "17883.0",
         "25403.0",
         "704.0"
        ],
        [
         "9",
         "Afghanistan",
         "Anise, badian, coriander, cumin, caraway, fennel and juniper berries, raw",
         "2023",
         "17909.0",
         "25439.0",
         "704.0"
        ],
        [
         "10",
         "Afghanistan",
         "Apples",
         "2019",
         "250324.0",
         "27559.0",
         "9083.0"
        ],
        [
         "11",
         "Afghanistan",
         "Apples",
         "2020",
         "270857.0",
         "25643.0",
         "10563.0"
        ],
        [
         "12",
         "Afghanistan",
         "Apples",
         "2021",
         "321672.0",
         "30463.0",
         "10559.0"
        ],
        [
         "13",
         "Afghanistan",
         "Apples",
         "2022",
         "318402.0",
         "30163.0",
         "10556.0"
        ],
        [
         "14",
         "Afghanistan",
         "Apples",
         "2023",
         "324000.0",
         "31000.0",
         "10452.0"
        ],
        [
         "15",
         "Afghanistan",
         "Apricots",
         "2019",
         "129363.0",
         "17719.0",
         "7301.0"
        ],
        [
         "16",
         "Afghanistan",
         "Apricots",
         "2020",
         "131788.0",
         "17481.0",
         "7539.0"
        ],
        [
         "17",
         "Afghanistan",
         "Apricots",
         "2021",
         "207490.0",
         "27082.0",
         "7662.0"
        ],
        [
         "18",
         "Afghanistan",
         "Apricots",
         "2022",
         "170508.0",
         "26731.0",
         "6379.0"
        ],
        [
         "19",
         "Afghanistan",
         "Apricots",
         "2023",
         "155429.0",
         "22008.0",
         "7062.0"
        ],
        [
         "20",
         "Afghanistan",
         "Barley",
         "2019",
         "123576.0",
         "84070.0",
         "1470.0"
        ],
        [
         "21",
         "Afghanistan",
         "Barley",
         "2020",
         "127757.0",
         "86099.0",
         "1484.0"
        ],
        [
         "22",
         "Afghanistan",
         "Barley",
         "2021",
         "65102.0",
         "40273.0",
         "1616.0"
        ],
        [
         "23",
         "Afghanistan",
         "Barley",
         "2022",
         "94687.0",
         "61952.0",
         "1528.0"
        ],
        [
         "24",
         "Afghanistan",
         "Barley",
         "2023",
         "110000.0",
         "80000.0",
         "1375.0"
        ],
        [
         "25",
         "Afghanistan",
         "Butter and ghee of sheep milk",
         "2019",
         "3804.0",
         null,
         null
        ],
        [
         "26",
         "Afghanistan",
         "Butter and ghee of sheep milk",
         "2020",
         "4605.0",
         null,
         null
        ],
        [
         "27",
         "Afghanistan",
         "Butter and ghee of sheep milk",
         "2021",
         "3692.0",
         null,
         null
        ],
        [
         "28",
         "Afghanistan",
         "Butter and ghee of sheep milk",
         "2022",
         "3651.0",
         null,
         null
        ],
        [
         "29",
         "Afghanistan",
         "Butter of cow milk",
         "2019",
         "36731.0",
         null,
         null
        ],
        [
         "30",
         "Afghanistan",
         "Butter of cow milk",
         "2020",
         "36357.0",
         null,
         null
        ],
        [
         "31",
         "Afghanistan",
         "Butter of cow milk",
         "2021",
         "38509.0",
         null,
         null
        ],
        [
         "32",
         "Afghanistan",
         "Butter of cow milk",
         "2022",
         "38918.0",
         null,
         null
        ],
        [
         "33",
         "Afghanistan",
         "Buttermilk, dry",
         "2019",
         "5896.0",
         null,
         null
        ],
        [
         "34",
         "Afghanistan",
         "Buttermilk, dry",
         "2020",
         "5829.0",
         null,
         null
        ],
        [
         "35",
         "Afghanistan",
         "Buttermilk, dry",
         "2021",
         "6158.0",
         null,
         null
        ],
        [
         "36",
         "Afghanistan",
         "Buttermilk, dry",
         "2022",
         "6220.0",
         null,
         null
        ],
        [
         "37",
         "Afghanistan",
         "Cantaloupes and other melons",
         "2019",
         "464230.0",
         "37136.0",
         "12501.0"
        ],
        [
         "38",
         "Afghanistan",
         "Cantaloupes and other melons",
         "2020",
         "793496.0",
         "58942.0",
         "13462.0"
        ],
        [
         "39",
         "Afghanistan",
         "Cantaloupes and other melons",
         "2021",
         "763383.0",
         "59437.0",
         "12844.0"
        ],
        [
         "40",
         "Afghanistan",
         "Cantaloupes and other melons",
         "2022",
         "762543.0",
         "70902.0",
         "10755.0"
        ],
        [
         "41",
         "Afghanistan",
         "Cantaloupes and other melons",
         "2023",
         "795100.0",
         "73628.0",
         "10799.0"
        ],
        [
         "42",
         "Afghanistan",
         "Cattle fat, unrendered",
         "2019",
         "2183.0",
         null,
         null
        ],
        [
         "43",
         "Afghanistan",
         "Cattle fat, unrendered",
         "2020",
         "2174.0",
         null,
         null
        ],
        [
         "44",
         "Afghanistan",
         "Cattle fat, unrendered",
         "2021",
         "2006.0",
         null,
         null
        ],
        [
         "45",
         "Afghanistan",
         "Cattle fat, unrendered",
         "2022",
         "1878.0",
         null,
         null
        ],
        [
         "46",
         "Afghanistan",
         "Cattle fat, unrendered",
         "2023",
         "1750.0",
         null,
         null
        ],
        [
         "47",
         "Afghanistan",
         "Cheese from milk of goats, fresh or processed",
         "2019",
         "10632.0",
         null,
         null
        ],
        [
         "48",
         "Afghanistan",
         "Cheese from milk of goats, fresh or processed",
         "2020",
         "10575.0",
         null,
         null
        ],
        [
         "49",
         "Afghanistan",
         "Cheese from milk of goats, fresh or processed",
         "2021",
         "10545.0",
         null,
         null
        ]
       ],
       "shape": {
        "columns": 6,
        "rows": 89698
       }
      },
      "text/html": [
       "<div>\n",
       "<style scoped>\n",
       "    .dataframe tbody tr th:only-of-type {\n",
       "        vertical-align: middle;\n",
       "    }\n",
       "\n",
       "    .dataframe tbody tr th {\n",
       "        vertical-align: top;\n",
       "    }\n",
       "\n",
       "    .dataframe thead th {\n",
       "        text-align: right;\n",
       "    }\n",
       "</style>\n",
       "<table border=\"1\" class=\"dataframe\">\n",
       "  <thead>\n",
       "    <tr style=\"text-align: right;\">\n",
       "      <th></th>\n",
       "      <th>Country</th>\n",
       "      <th>Item</th>\n",
       "      <th>Year</th>\n",
       "      <th>production_in_t</th>\n",
       "      <th>area_in_h</th>\n",
       "      <th>yield_in_kg_per_h</th>\n",
       "    </tr>\n",
       "  </thead>\n",
       "  <tbody>\n",
       "    <tr>\n",
       "      <th>0</th>\n",
       "      <td>Afghanistan</td>\n",
       "      <td>Almonds, in shell</td>\n",
       "      <td>2019</td>\n",
       "      <td>38205.0</td>\n",
       "      <td>29203.0</td>\n",
       "      <td>1308.0</td>\n",
       "    </tr>\n",
       "    <tr>\n",
       "      <th>1</th>\n",
       "      <td>Afghanistan</td>\n",
       "      <td>Almonds, in shell</td>\n",
       "      <td>2020</td>\n",
       "      <td>39307.0</td>\n",
       "      <td>22134.0</td>\n",
       "      <td>1776.0</td>\n",
       "    </tr>\n",
       "    <tr>\n",
       "      <th>2</th>\n",
       "      <td>Afghanistan</td>\n",
       "      <td>Almonds, in shell</td>\n",
       "      <td>2021</td>\n",
       "      <td>64256.0</td>\n",
       "      <td>36862.0</td>\n",
       "      <td>1743.0</td>\n",
       "    </tr>\n",
       "    <tr>\n",
       "      <th>3</th>\n",
       "      <td>Afghanistan</td>\n",
       "      <td>Almonds, in shell</td>\n",
       "      <td>2022</td>\n",
       "      <td>63515.0</td>\n",
       "      <td>36462.0</td>\n",
       "      <td>1742.0</td>\n",
       "    </tr>\n",
       "    <tr>\n",
       "      <th>4</th>\n",
       "      <td>Afghanistan</td>\n",
       "      <td>Almonds, in shell</td>\n",
       "      <td>2023</td>\n",
       "      <td>67000.0</td>\n",
       "      <td>37000.0</td>\n",
       "      <td>1811.0</td>\n",
       "    </tr>\n",
       "    <tr>\n",
       "      <th>...</th>\n",
       "      <td>...</td>\n",
       "      <td>...</td>\n",
       "      <td>...</td>\n",
       "      <td>...</td>\n",
       "      <td>...</td>\n",
       "      <td>...</td>\n",
       "    </tr>\n",
       "    <tr>\n",
       "      <th>89693</th>\n",
       "      <td>Zimbabwe</td>\n",
       "      <td>Whole milk, evaporated</td>\n",
       "      <td>2019</td>\n",
       "      <td>5010.0</td>\n",
       "      <td>NaN</td>\n",
       "      <td>NaN</td>\n",
       "    </tr>\n",
       "    <tr>\n",
       "      <th>89694</th>\n",
       "      <td>Zimbabwe</td>\n",
       "      <td>Whole milk, evaporated</td>\n",
       "      <td>2020</td>\n",
       "      <td>4796.0</td>\n",
       "      <td>NaN</td>\n",
       "      <td>NaN</td>\n",
       "    </tr>\n",
       "    <tr>\n",
       "      <th>89695</th>\n",
       "      <td>Zimbabwe</td>\n",
       "      <td>Whole milk, evaporated</td>\n",
       "      <td>2021</td>\n",
       "      <td>4921.0</td>\n",
       "      <td>NaN</td>\n",
       "      <td>NaN</td>\n",
       "    </tr>\n",
       "    <tr>\n",
       "      <th>89696</th>\n",
       "      <td>Zimbabwe</td>\n",
       "      <td>Whole milk, evaporated</td>\n",
       "      <td>2022</td>\n",
       "      <td>4966.0</td>\n",
       "      <td>NaN</td>\n",
       "      <td>NaN</td>\n",
       "    </tr>\n",
       "    <tr>\n",
       "      <th>89697</th>\n",
       "      <td>Zimbabwe</td>\n",
       "      <td>Wine</td>\n",
       "      <td>2019</td>\n",
       "      <td>NaN</td>\n",
       "      <td>NaN</td>\n",
       "      <td>NaN</td>\n",
       "    </tr>\n",
       "  </tbody>\n",
       "</table>\n",
       "<p>89698 rows × 6 columns</p>\n",
       "</div>"
      ],
      "text/plain": [
       "           Country                    Item  Year  production_in_t  area_in_h  \\\n",
       "0      Afghanistan       Almonds, in shell  2019          38205.0    29203.0   \n",
       "1      Afghanistan       Almonds, in shell  2020          39307.0    22134.0   \n",
       "2      Afghanistan       Almonds, in shell  2021          64256.0    36862.0   \n",
       "3      Afghanistan       Almonds, in shell  2022          63515.0    36462.0   \n",
       "4      Afghanistan       Almonds, in shell  2023          67000.0    37000.0   \n",
       "...            ...                     ...   ...              ...        ...   \n",
       "89693     Zimbabwe  Whole milk, evaporated  2019           5010.0        NaN   \n",
       "89694     Zimbabwe  Whole milk, evaporated  2020           4796.0        NaN   \n",
       "89695     Zimbabwe  Whole milk, evaporated  2021           4921.0        NaN   \n",
       "89696     Zimbabwe  Whole milk, evaporated  2022           4966.0        NaN   \n",
       "89697     Zimbabwe                    Wine  2019              NaN        NaN   \n",
       "\n",
       "       yield_in_kg_per_h  \n",
       "0                 1308.0  \n",
       "1                 1776.0  \n",
       "2                 1743.0  \n",
       "3                 1742.0  \n",
       "4                 1811.0  \n",
       "...                  ...  \n",
       "89693                NaN  \n",
       "89694                NaN  \n",
       "89695                NaN  \n",
       "89696                NaN  \n",
       "89697                NaN  \n",
       "\n",
       "[89698 rows x 6 columns]"
      ]
     },
     "execution_count": 18,
     "metadata": {},
     "output_type": "execute_result"
    }
   ],
   "source": [
    "df"
   ]
  },
  {
   "cell_type": "code",
   "execution_count": 19,
   "id": "8df9675e",
   "metadata": {},
   "outputs": [],
   "source": [
    "df.to_csv('draft2.csv', index=False)"
   ]
  },
  {
   "cell_type": "code",
   "execution_count": 20,
   "id": "29a04393",
   "metadata": {},
   "outputs": [
    {
     "name": "stdout",
     "output_type": "stream",
     "text": [
      "<class 'pandas.core.frame.DataFrame'>\n",
      "RangeIndex: 89698 entries, 0 to 89697\n",
      "Data columns (total 6 columns):\n",
      " #   Column             Non-Null Count  Dtype  \n",
      "---  ------             --------------  -----  \n",
      " 0   Country            89698 non-null  object \n",
      " 1   Item               89698 non-null  object \n",
      " 2   Year               89698 non-null  int64  \n",
      " 3   production_in_t    86181 non-null  float64\n",
      " 4   area_in_h          49308 non-null  float64\n",
      " 5   yield_in_kg_per_h  54888 non-null  float64\n",
      "dtypes: float64(3), int64(1), object(2)\n",
      "memory usage: 4.1+ MB\n"
     ]
    }
   ],
   "source": [
    "df.info()"
   ]
  },
  {
   "cell_type": "code",
   "execution_count": 21,
   "id": "2e3dde0d",
   "metadata": {},
   "outputs": [
    {
     "data": {
      "application/vnd.microsoft.datawrangler.viewer.v0+json": {
       "columns": [
        {
         "name": "index",
         "rawType": "object",
         "type": "string"
        },
        {
         "name": "0",
         "rawType": "int64",
         "type": "integer"
        }
       ],
       "ref": "230c8c29-e0f2-4d42-ab7d-13ca516c5fc4",
       "rows": [
        [
         "Country",
         "0"
        ],
        [
         "Item",
         "0"
        ],
        [
         "Year",
         "0"
        ],
        [
         "production_in_t",
         "3517"
        ],
        [
         "area_in_h",
         "40390"
        ],
        [
         "yield_in_kg_per_h",
         "34810"
        ]
       ],
       "shape": {
        "columns": 1,
        "rows": 6
       }
      },
      "text/plain": [
       "Country                  0\n",
       "Item                     0\n",
       "Year                     0\n",
       "production_in_t       3517\n",
       "area_in_h            40390\n",
       "yield_in_kg_per_h    34810\n",
       "dtype: int64"
      ]
     },
     "execution_count": 21,
     "metadata": {},
     "output_type": "execute_result"
    }
   ],
   "source": [
    "df.isna().sum()"
   ]
  },
  {
   "cell_type": "code",
   "execution_count": 22,
   "id": "2949fd6d",
   "metadata": {},
   "outputs": [
    {
     "data": {
      "application/vnd.microsoft.datawrangler.viewer.v0+json": {
       "columns": [
        {
         "name": "index",
         "rawType": "object",
         "type": "string"
        },
        {
         "name": "0",
         "rawType": "int64",
         "type": "integer"
        }
       ],
       "ref": "bb46a27d-d199-4116-8694-df393415c4b8",
       "rows": [
        [
         "Country",
         "0"
        ],
        [
         "Item",
         "0"
        ],
        [
         "Year",
         "0"
        ],
        [
         "production_in_t",
         "3517"
        ],
        [
         "area_in_h",
         "40390"
        ],
        [
         "yield_in_kg_per_h",
         "34810"
        ]
       ],
       "shape": {
        "columns": 1,
        "rows": 6
       }
      },
      "text/plain": [
       "Country                  0\n",
       "Item                     0\n",
       "Year                     0\n",
       "production_in_t       3517\n",
       "area_in_h            40390\n",
       "yield_in_kg_per_h    34810\n",
       "dtype: int64"
      ]
     },
     "execution_count": 22,
     "metadata": {},
     "output_type": "execute_result"
    }
   ],
   "source": [
    "df.isnull().sum()"
   ]
  },
  {
   "cell_type": "code",
   "execution_count": null,
   "id": "5fd47f63",
   "metadata": {},
   "outputs": [],
   "source": []
  }
 ],
 "metadata": {
  "kernelspec": {
   "display_name": ".venv",
   "language": "python",
   "name": "python3"
  },
  "language_info": {
   "codemirror_mode": {
    "name": "ipython",
    "version": 3
   },
   "file_extension": ".py",
   "mimetype": "text/x-python",
   "name": "python",
   "nbconvert_exporter": "python",
   "pygments_lexer": "ipython3",
   "version": "3.11.4"
  }
 },
 "nbformat": 4,
 "nbformat_minor": 5
}
