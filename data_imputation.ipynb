{
 "cells": [
  {
   "cell_type": "code",
   "execution_count": 126,
   "id": "de01e281",
   "metadata": {},
   "outputs": [],
   "source": [
    "import pandas as pd\n",
    "import numpy as np\n",
    "import matplotlib.pyplot as plt\n",
    "import plotly.express as px\n",
    "import plotly.graph_objects as go\n",
    "import seaborn as sns\n",
    "import warnings\n",
    "from datetime import datetime\n",
    "import country_converter as coco\n",
    "warnings.simplefilter('ignore')\n",
    "from sklearn.linear_model import LinearRegression,Ridge,Lasso,LogisticRegression\n",
    "from sklearn.preprocessing import LabelEncoder,OneHotEncoder,PolynomialFeatures\n",
    "from sklearn.model_selection import train_test_split,GridSearchCV\n",
    "from sklearn.impute import KNNImputer\n",
    "from sklearn.metrics import mean_absolute_error,mean_squared_error,r2_score,accuracy_score\n",
    "from sklearn.pipeline import make_pipeline\n",
    "from sklearn.ensemble import RandomForestRegressor,HistGradientBoostingRegressor,GradientBoostingRegressor\n",
    "from sklearn.neighbors import KNeighborsRegressor"
   ]
  },
  {
   "cell_type": "code",
   "execution_count": 56,
   "id": "d3ac3e57",
   "metadata": {},
   "outputs": [
    {
     "data": {
      "application/vnd.microsoft.datawrangler.viewer.v0+json": {
       "columns": [
        {
         "name": "index",
         "rawType": "int64",
         "type": "integer"
        },
        {
         "name": "Country",
         "rawType": "object",
         "type": "string"
        },
        {
         "name": "Item",
         "rawType": "object",
         "type": "string"
        },
        {
         "name": "Year",
         "rawType": "int64",
         "type": "integer"
        },
        {
         "name": "production_in_t",
         "rawType": "float64",
         "type": "float"
        },
        {
         "name": "area_in_h",
         "rawType": "float64",
         "type": "float"
        },
        {
         "name": "yield_in_kg_per_h",
         "rawType": "float64",
         "type": "float"
        }
       ],
       "ref": "c0b19fe8-ba29-4288-8497-547910972fce",
       "rows": [
        [
         "0",
         "Afghanistan",
         "Almonds, in shell",
         "2019",
         "38205.0",
         "29203.0",
         "1308.0"
        ],
        [
         "1",
         "Afghanistan",
         "Almonds, in shell",
         "2020",
         "39307.0",
         "22134.0",
         "1776.0"
        ],
        [
         "2",
         "Afghanistan",
         "Almonds, in shell",
         "2021",
         "64256.0",
         "36862.0",
         "1743.0"
        ],
        [
         "3",
         "Afghanistan",
         "Almonds, in shell",
         "2022",
         "63515.0",
         "36462.0",
         "1742.0"
        ],
        [
         "4",
         "Afghanistan",
         "Almonds, in shell",
         "2023",
         "67000.0",
         "37000.0",
         "1811.0"
        ],
        [
         "5",
         "Afghanistan",
         "Anise, badian, coriander, cumin, caraway, fennel and juniper berries, raw",
         "2019",
         "17808.0",
         "25293.0",
         "704.0"
        ],
        [
         "6",
         "Afghanistan",
         "Anise, badian, coriander, cumin, caraway, fennel and juniper berries, raw",
         "2020",
         "17966.0",
         "25558.0",
         "703.0"
        ],
        [
         "7",
         "Afghanistan",
         "Anise, badian, coriander, cumin, caraway, fennel and juniper berries, raw",
         "2021",
         "17876.0",
         "25357.0",
         "705.0"
        ],
        [
         "8",
         "Afghanistan",
         "Anise, badian, coriander, cumin, caraway, fennel and juniper berries, raw",
         "2022",
         "17883.0",
         "25403.0",
         "704.0"
        ],
        [
         "9",
         "Afghanistan",
         "Anise, badian, coriander, cumin, caraway, fennel and juniper berries, raw",
         "2023",
         "17909.0",
         "25439.0",
         "704.0"
        ],
        [
         "10",
         "Afghanistan",
         "Apples",
         "2019",
         "250324.0",
         "27559.0",
         "9083.0"
        ],
        [
         "11",
         "Afghanistan",
         "Apples",
         "2020",
         "270857.0",
         "25643.0",
         "10563.0"
        ],
        [
         "12",
         "Afghanistan",
         "Apples",
         "2021",
         "321672.0",
         "30463.0",
         "10559.0"
        ],
        [
         "13",
         "Afghanistan",
         "Apples",
         "2022",
         "318402.0",
         "30163.0",
         "10556.0"
        ],
        [
         "14",
         "Afghanistan",
         "Apples",
         "2023",
         "324000.0",
         "31000.0",
         "10452.0"
        ],
        [
         "15",
         "Afghanistan",
         "Apricots",
         "2019",
         "129363.0",
         "17719.0",
         "7301.0"
        ],
        [
         "16",
         "Afghanistan",
         "Apricots",
         "2020",
         "131788.0",
         "17481.0",
         "7539.0"
        ],
        [
         "17",
         "Afghanistan",
         "Apricots",
         "2021",
         "207490.0",
         "27082.0",
         "7662.0"
        ],
        [
         "18",
         "Afghanistan",
         "Apricots",
         "2022",
         "170508.0",
         "26731.0",
         "6379.0"
        ],
        [
         "19",
         "Afghanistan",
         "Apricots",
         "2023",
         "155429.0",
         "22008.0",
         "7062.0"
        ],
        [
         "20",
         "Afghanistan",
         "Barley",
         "2019",
         "123576.0",
         "84070.0",
         "1470.0"
        ],
        [
         "21",
         "Afghanistan",
         "Barley",
         "2020",
         "127757.0",
         "86099.0",
         "1484.0"
        ],
        [
         "22",
         "Afghanistan",
         "Barley",
         "2021",
         "65102.0",
         "40273.0",
         "1616.0"
        ],
        [
         "23",
         "Afghanistan",
         "Barley",
         "2022",
         "94687.0",
         "61952.0",
         "1528.0"
        ],
        [
         "24",
         "Afghanistan",
         "Barley",
         "2023",
         "110000.0",
         "80000.0",
         "1375.0"
        ],
        [
         "25",
         "Afghanistan",
         "Butter and ghee of sheep milk",
         "2019",
         "3804.0",
         null,
         null
        ],
        [
         "26",
         "Afghanistan",
         "Butter and ghee of sheep milk",
         "2020",
         "4605.0",
         null,
         null
        ],
        [
         "27",
         "Afghanistan",
         "Butter and ghee of sheep milk",
         "2021",
         "3692.0",
         null,
         null
        ],
        [
         "28",
         "Afghanistan",
         "Butter and ghee of sheep milk",
         "2022",
         "3651.0",
         null,
         null
        ],
        [
         "29",
         "Afghanistan",
         "Butter of cow milk",
         "2019",
         "36731.0",
         null,
         null
        ],
        [
         "30",
         "Afghanistan",
         "Butter of cow milk",
         "2020",
         "36357.0",
         null,
         null
        ],
        [
         "31",
         "Afghanistan",
         "Butter of cow milk",
         "2021",
         "38509.0",
         null,
         null
        ],
        [
         "32",
         "Afghanistan",
         "Butter of cow milk",
         "2022",
         "38918.0",
         null,
         null
        ],
        [
         "33",
         "Afghanistan",
         "Buttermilk, dry",
         "2019",
         "5896.0",
         null,
         null
        ],
        [
         "34",
         "Afghanistan",
         "Buttermilk, dry",
         "2020",
         "5829.0",
         null,
         null
        ],
        [
         "35",
         "Afghanistan",
         "Buttermilk, dry",
         "2021",
         "6158.0",
         null,
         null
        ],
        [
         "36",
         "Afghanistan",
         "Buttermilk, dry",
         "2022",
         "6220.0",
         null,
         null
        ],
        [
         "37",
         "Afghanistan",
         "Cantaloupes and other melons",
         "2019",
         "464230.0",
         "37136.0",
         "12501.0"
        ],
        [
         "38",
         "Afghanistan",
         "Cantaloupes and other melons",
         "2020",
         "793496.0",
         "58942.0",
         "13462.0"
        ],
        [
         "39",
         "Afghanistan",
         "Cantaloupes and other melons",
         "2021",
         "763383.0",
         "59437.0",
         "12844.0"
        ],
        [
         "40",
         "Afghanistan",
         "Cantaloupes and other melons",
         "2022",
         "762543.0",
         "70902.0",
         "10755.0"
        ],
        [
         "41",
         "Afghanistan",
         "Cantaloupes and other melons",
         "2023",
         "795100.0",
         "73628.0",
         "10799.0"
        ],
        [
         "42",
         "Afghanistan",
         "Cattle fat, unrendered",
         "2019",
         "2183.0",
         null,
         null
        ],
        [
         "43",
         "Afghanistan",
         "Cattle fat, unrendered",
         "2020",
         "2174.0",
         null,
         null
        ],
        [
         "44",
         "Afghanistan",
         "Cattle fat, unrendered",
         "2021",
         "2006.0",
         null,
         null
        ],
        [
         "45",
         "Afghanistan",
         "Cattle fat, unrendered",
         "2022",
         "1878.0",
         null,
         null
        ],
        [
         "46",
         "Afghanistan",
         "Cattle fat, unrendered",
         "2023",
         "1750.0",
         null,
         null
        ],
        [
         "47",
         "Afghanistan",
         "Cheese from milk of goats, fresh or processed",
         "2019",
         "10632.0",
         null,
         null
        ],
        [
         "48",
         "Afghanistan",
         "Cheese from milk of goats, fresh or processed",
         "2020",
         "10575.0",
         null,
         null
        ],
        [
         "49",
         "Afghanistan",
         "Cheese from milk of goats, fresh or processed",
         "2021",
         "10545.0",
         null,
         null
        ]
       ],
       "shape": {
        "columns": 6,
        "rows": 89698
       }
      },
      "text/html": [
       "<div>\n",
       "<style scoped>\n",
       "    .dataframe tbody tr th:only-of-type {\n",
       "        vertical-align: middle;\n",
       "    }\n",
       "\n",
       "    .dataframe tbody tr th {\n",
       "        vertical-align: top;\n",
       "    }\n",
       "\n",
       "    .dataframe thead th {\n",
       "        text-align: right;\n",
       "    }\n",
       "</style>\n",
       "<table border=\"1\" class=\"dataframe\">\n",
       "  <thead>\n",
       "    <tr style=\"text-align: right;\">\n",
       "      <th></th>\n",
       "      <th>Country</th>\n",
       "      <th>Item</th>\n",
       "      <th>Year</th>\n",
       "      <th>production_in_t</th>\n",
       "      <th>area_in_h</th>\n",
       "      <th>yield_in_kg_per_h</th>\n",
       "    </tr>\n",
       "  </thead>\n",
       "  <tbody>\n",
       "    <tr>\n",
       "      <th>0</th>\n",
       "      <td>Afghanistan</td>\n",
       "      <td>Almonds, in shell</td>\n",
       "      <td>2019</td>\n",
       "      <td>38205.0</td>\n",
       "      <td>29203.0</td>\n",
       "      <td>1308.0</td>\n",
       "    </tr>\n",
       "    <tr>\n",
       "      <th>1</th>\n",
       "      <td>Afghanistan</td>\n",
       "      <td>Almonds, in shell</td>\n",
       "      <td>2020</td>\n",
       "      <td>39307.0</td>\n",
       "      <td>22134.0</td>\n",
       "      <td>1776.0</td>\n",
       "    </tr>\n",
       "    <tr>\n",
       "      <th>2</th>\n",
       "      <td>Afghanistan</td>\n",
       "      <td>Almonds, in shell</td>\n",
       "      <td>2021</td>\n",
       "      <td>64256.0</td>\n",
       "      <td>36862.0</td>\n",
       "      <td>1743.0</td>\n",
       "    </tr>\n",
       "    <tr>\n",
       "      <th>3</th>\n",
       "      <td>Afghanistan</td>\n",
       "      <td>Almonds, in shell</td>\n",
       "      <td>2022</td>\n",
       "      <td>63515.0</td>\n",
       "      <td>36462.0</td>\n",
       "      <td>1742.0</td>\n",
       "    </tr>\n",
       "    <tr>\n",
       "      <th>4</th>\n",
       "      <td>Afghanistan</td>\n",
       "      <td>Almonds, in shell</td>\n",
       "      <td>2023</td>\n",
       "      <td>67000.0</td>\n",
       "      <td>37000.0</td>\n",
       "      <td>1811.0</td>\n",
       "    </tr>\n",
       "    <tr>\n",
       "      <th>...</th>\n",
       "      <td>...</td>\n",
       "      <td>...</td>\n",
       "      <td>...</td>\n",
       "      <td>...</td>\n",
       "      <td>...</td>\n",
       "      <td>...</td>\n",
       "    </tr>\n",
       "    <tr>\n",
       "      <th>89693</th>\n",
       "      <td>Zimbabwe</td>\n",
       "      <td>Whole milk, evaporated</td>\n",
       "      <td>2019</td>\n",
       "      <td>5010.0</td>\n",
       "      <td>NaN</td>\n",
       "      <td>NaN</td>\n",
       "    </tr>\n",
       "    <tr>\n",
       "      <th>89694</th>\n",
       "      <td>Zimbabwe</td>\n",
       "      <td>Whole milk, evaporated</td>\n",
       "      <td>2020</td>\n",
       "      <td>4796.0</td>\n",
       "      <td>NaN</td>\n",
       "      <td>NaN</td>\n",
       "    </tr>\n",
       "    <tr>\n",
       "      <th>89695</th>\n",
       "      <td>Zimbabwe</td>\n",
       "      <td>Whole milk, evaporated</td>\n",
       "      <td>2021</td>\n",
       "      <td>4921.0</td>\n",
       "      <td>NaN</td>\n",
       "      <td>NaN</td>\n",
       "    </tr>\n",
       "    <tr>\n",
       "      <th>89696</th>\n",
       "      <td>Zimbabwe</td>\n",
       "      <td>Whole milk, evaporated</td>\n",
       "      <td>2022</td>\n",
       "      <td>4966.0</td>\n",
       "      <td>NaN</td>\n",
       "      <td>NaN</td>\n",
       "    </tr>\n",
       "    <tr>\n",
       "      <th>89697</th>\n",
       "      <td>Zimbabwe</td>\n",
       "      <td>Wine</td>\n",
       "      <td>2019</td>\n",
       "      <td>NaN</td>\n",
       "      <td>NaN</td>\n",
       "      <td>NaN</td>\n",
       "    </tr>\n",
       "  </tbody>\n",
       "</table>\n",
       "<p>89698 rows × 6 columns</p>\n",
       "</div>"
      ],
      "text/plain": [
       "           Country                    Item  Year  production_in_t  area_in_h  \\\n",
       "0      Afghanistan       Almonds, in shell  2019          38205.0    29203.0   \n",
       "1      Afghanistan       Almonds, in shell  2020          39307.0    22134.0   \n",
       "2      Afghanistan       Almonds, in shell  2021          64256.0    36862.0   \n",
       "3      Afghanistan       Almonds, in shell  2022          63515.0    36462.0   \n",
       "4      Afghanistan       Almonds, in shell  2023          67000.0    37000.0   \n",
       "...            ...                     ...   ...              ...        ...   \n",
       "89693     Zimbabwe  Whole milk, evaporated  2019           5010.0        NaN   \n",
       "89694     Zimbabwe  Whole milk, evaporated  2020           4796.0        NaN   \n",
       "89695     Zimbabwe  Whole milk, evaporated  2021           4921.0        NaN   \n",
       "89696     Zimbabwe  Whole milk, evaporated  2022           4966.0        NaN   \n",
       "89697     Zimbabwe                    Wine  2019              NaN        NaN   \n",
       "\n",
       "       yield_in_kg_per_h  \n",
       "0                 1308.0  \n",
       "1                 1776.0  \n",
       "2                 1743.0  \n",
       "3                 1742.0  \n",
       "4                 1811.0  \n",
       "...                  ...  \n",
       "89693                NaN  \n",
       "89694                NaN  \n",
       "89695                NaN  \n",
       "89696                NaN  \n",
       "89697                NaN  \n",
       "\n",
       "[89698 rows x 6 columns]"
      ]
     },
     "execution_count": 56,
     "metadata": {},
     "output_type": "execute_result"
    }
   ],
   "source": [
    "data = pd.read_csv(\"draft2.csv\")\n",
    "data"
   ]
  },
  {
   "cell_type": "code",
   "execution_count": 57,
   "id": "e53fbc30",
   "metadata": {},
   "outputs": [
    {
     "name": "stdout",
     "output_type": "stream",
     "text": [
      "<class 'pandas.core.frame.DataFrame'>\n",
      "RangeIndex: 89698 entries, 0 to 89697\n",
      "Data columns (total 6 columns):\n",
      " #   Column             Non-Null Count  Dtype  \n",
      "---  ------             --------------  -----  \n",
      " 0   Country            89698 non-null  object \n",
      " 1   Item               89698 non-null  object \n",
      " 2   Year               89698 non-null  int64  \n",
      " 3   production_in_t    86181 non-null  float64\n",
      " 4   area_in_h          49308 non-null  float64\n",
      " 5   yield_in_kg_per_h  54888 non-null  float64\n",
      "dtypes: float64(3), int64(1), object(2)\n",
      "memory usage: 4.1+ MB\n"
     ]
    }
   ],
   "source": [
    "data.info()"
   ]
  },
  {
   "cell_type": "code",
   "execution_count": 58,
   "id": "3e4ba162",
   "metadata": {},
   "outputs": [
    {
     "data": {
      "application/vnd.microsoft.datawrangler.viewer.v0+json": {
       "columns": [
        {
         "name": "index",
         "rawType": "object",
         "type": "string"
        },
        {
         "name": "0",
         "rawType": "int64",
         "type": "integer"
        }
       ],
       "ref": "cde14c63-2eee-4936-b927-096b03d285dd",
       "rows": [
        [
         "Country",
         "0"
        ],
        [
         "Item",
         "0"
        ],
        [
         "Year",
         "0"
        ],
        [
         "production_in_t",
         "3517"
        ],
        [
         "area_in_h",
         "40390"
        ],
        [
         "yield_in_kg_per_h",
         "34810"
        ]
       ],
       "shape": {
        "columns": 1,
        "rows": 6
       }
      },
      "text/plain": [
       "Country                  0\n",
       "Item                     0\n",
       "Year                     0\n",
       "production_in_t       3517\n",
       "area_in_h            40390\n",
       "yield_in_kg_per_h    34810\n",
       "dtype: int64"
      ]
     },
     "execution_count": 58,
     "metadata": {},
     "output_type": "execute_result"
    }
   ],
   "source": [
    "data.isnull().sum()"
   ]
  },
  {
   "cell_type": "code",
   "execution_count": 59,
   "id": "f65877e4",
   "metadata": {},
   "outputs": [],
   "source": [
    "df = data.copy()"
   ]
  },
  {
   "cell_type": "code",
   "execution_count": 61,
   "id": "9930f301",
   "metadata": {},
   "outputs": [],
   "source": [
    "# Encoding\n",
    "lb_en = LabelEncoder()\n",
    "df['Item'] = lb_en.fit_transform(df['Item'])\n",
    "df['Country'] = lb_en.fit_transform(df['Country'])"
   ]
  },
  {
   "cell_type": "code",
   "execution_count": 63,
   "id": "cbd09b13",
   "metadata": {},
   "outputs": [],
   "source": [
    "kni = KNNImputer(n_neighbors=1)\n",
    "features = ['Country','Item','production_in_t','area_in_h','yield_in_kg_per_h']\n",
    "df[features] = kni.fit_transform(df[features])"
   ]
  },
  {
   "cell_type": "code",
   "execution_count": 125,
   "id": "f2c86087",
   "metadata": {},
   "outputs": [
    {
     "data": {
      "text/plain": [
       "0.42153667698093367"
      ]
     },
     "execution_count": 125,
     "metadata": {},
     "output_type": "execute_result"
    }
   ],
   "source": [
    "lr = LinearRegression()\n",
    "\n",
    "x = df[['Country','Item','area_in_h','yield_in_kg_per_h']]\n",
    "y = df['production_in_t']\n",
    "\n",
    "\n",
    "x_train,x_test,y_train,y_test = train_test_split(x,y,test_size=0.2,random_state=0)\n",
    "area_model = lr.fit(x_train,y_train)\n",
    "y_predict = lr.predict(x_test)\n",
    "lr.score(x_test,y_test)"
   ]
  },
  {
   "cell_type": "code",
   "execution_count": 82,
   "id": "a81c1669",
   "metadata": {},
   "outputs": [
    {
     "name": "stdout",
     "output_type": "stream",
     "text": [
      "the poly score is 0.7700411386460766\n",
      "mae:996048.9910101872, mse:59302250269143.77, r2_score:0.7700411386460766\n"
     ]
    }
   ],
   "source": [
    "poly_model = make_pipeline(PolynomialFeatures(degree=2),LinearRegression())\n",
    "poly_model.fit(x_train,y_train)\n",
    "y_poly_predict = poly_model.predict(x_test)\n",
    "\n",
    "poly_score = poly_model.score(x_test,y_test)\n",
    "mae = mean_absolute_error(y_test,y_poly_predict)\n",
    "mse = mean_squared_error(y_test,y_poly_predict)\n",
    "rs = r2_score(y_test,y_poly_predict)\n",
    "\n",
    "print(f'the poly score is {poly_score}')\n",
    "print(f'mae:{mae}, mse:{mse}, r2_score:{rs}')"
   ]
  },
  {
   "cell_type": "code",
   "execution_count": 90,
   "id": "caa38687",
   "metadata": {},
   "outputs": [
    {
     "name": "stdout",
     "output_type": "stream",
     "text": [
      "the poly score is 0.7805214174531054\n",
      "mae:1251397.7724168347, mse:56599575046951.37, r2_score:0.7805214174531054\n"
     ]
    }
   ],
   "source": [
    "# Ridge model\n",
    "poly_model = make_pipeline(PolynomialFeatures(degree=4),Ridge(alpha=0.1))\n",
    "poly_model.fit(x_train,y_train)\n",
    "y_poly_predict = poly_model.predict(x_test)\n",
    "\n",
    "poly_score = poly_model.score(x_test,y_test)\n",
    "mae = mean_absolute_error(y_test,y_poly_predict)\n",
    "mse = mean_squared_error(y_test,y_poly_predict)\n",
    "rs = r2_score(y_test,y_poly_predict)\n",
    "\n",
    "print(f'the poly score is {poly_score}')\n",
    "print(f'mae:{mae}, mse:{mse}, r2_score:{rs}')"
   ]
  },
  {
   "cell_type": "code",
   "execution_count": 92,
   "id": "dc73b700",
   "metadata": {},
   "outputs": [
    {
     "name": "stdout",
     "output_type": "stream",
     "text": [
      "the poly score is 0.7790369931187736\n",
      "mae:1092975.9962079069, mse:56982381357879.59, r2_score:0.7790369931187736\n"
     ]
    }
   ],
   "source": [
    "# Lasso model\n",
    "poly_model = make_pipeline(PolynomialFeatures(degree=4),Lasso(alpha=0.1))\n",
    "poly_model.fit(x_train,y_train)\n",
    "y_poly_predict = poly_model.predict(x_test)\n",
    "\n",
    "poly_score = poly_model.score(x_test,y_test)\n",
    "mae = mean_absolute_error(y_test,y_poly_predict)\n",
    "mse = mean_squared_error(y_test,y_poly_predict)\n",
    "rs = r2_score(y_test,y_poly_predict)\n",
    "\n",
    "print(f'the poly score is {poly_score}')\n",
    "print(f'mae:{mae}, mse:{mse}, r2_score:{rs}')"
   ]
  },
  {
   "cell_type": "code",
   "execution_count": null,
   "id": "601e7de3",
   "metadata": {},
   "outputs": [
    {
     "name": "stdout",
     "output_type": "stream",
     "text": [
      "the rf score is 0.7337278529535571\n",
      "mae:399695.92956219654, mse:68666792881478.125, r2_score:0.7337278529535571\n"
     ]
    }
   ],
   "source": [
    "from sklearn.ensemble import RandomForestRegressor  # Why ? --> Dealing with outlier and non-linear\n",
    "\n",
    "x_train,x_test,y_train,y_test = train_test_split(x,y,test_size=0.2,random_state=0)\n",
    "\n",
    "rf = RandomForestRegressor(n_estimators=100, random_state=0, n_jobs=-1)\n",
    "rf.fit(x_train,y_train)\n",
    "y_rf_predict = rf.predict(x_test)\n",
    "\n",
    "rf_score = rf.score(x_test,y_test)\n",
    "mae = mean_absolute_error(y_test,y_rf_predict)\n",
    "mse = mean_squared_error(y_test,y_rf_predict)\n",
    "rs = r2_score(y_test,y_rf_predict)\n",
    "\n",
    "print(f'the rf score is {rf_score}')\n",
    "print(f'mae:{mae}, mse:{mse}, r2_score:{rs}')"
   ]
  },
  {
   "cell_type": "code",
   "execution_count": 128,
   "id": "fa41c5d6",
   "metadata": {},
   "outputs": [
    {
     "name": "stdout",
     "output_type": "stream",
     "text": [
      "the hgbr score is 0.8282517982643982\n",
      "mae:643390.5604892316, mse:44290769151637.55, r2_score:0.8282517982643982\n"
     ]
    }
   ],
   "source": [
    "from sklearn.ensemble import HistGradientBoostingRegressor\n",
    "\n",
    "hgbr = HistGradientBoostingRegressor(max_iter=510, learning_rate=0.1, max_depth=16,min_samples_leaf=25,random_state=0)\n",
    "\n",
    "hgbr.fit(x_train,y_train)\n",
    "y_hgbr_predict = hgbr.predict(x_test)\n",
    "\n",
    "hgbr_score = hgbr.score(x_test,y_test)\n",
    "mae = mean_absolute_error(y_test,y_hgbr_predict)\n",
    "mse = mean_squared_error(y_test,y_hgbr_predict)\n",
    "rs = r2_score(y_test,y_hgbr_predict)\n",
    "\n",
    "print(f'the hgbr score is {hgbr_score}')\n",
    "print(f'mae:{mae}, mse:{mse}, r2_score:{rs}')\n"
   ]
  },
  {
   "cell_type": "code",
   "execution_count": 100,
   "id": "9c063a1d",
   "metadata": {},
   "outputs": [
    {
     "name": "stdout",
     "output_type": "stream",
     "text": [
      "the xgb score is 0.8111475643491063\n",
      "mae:694484.9772581374, mse:48701643141596.59, r2_score:0.8111475643491063\n"
     ]
    }
   ],
   "source": [
    "from xgboost import XGBRegressor\n",
    "\n",
    "xgb = XGBRegressor(\n",
    "    n_estimators=100,\n",
    "    learning_rate=0.1,\n",
    "    max_depth=6,\n",
    "    subsample=0.8,\n",
    "    colsample_bytree=0.8,\n",
    "    random_state=0\n",
    ")\n",
    "\n",
    "xgb.fit(x_train, y_train)\n",
    "y_xgb_pred = xgb.predict(x_test)\n",
    "\n",
    "xgb_score = xgb.score(x_test,y_test)\n",
    "mae = mean_absolute_error(y_test,y_xgb_pred)\n",
    "mse = mean_squared_error(y_test,y_xgb_pred)\n",
    "rs = r2_score(y_test,y_xgb_pred)\n",
    "\n",
    "print(f'the xgb score is {xgb_score}')\n",
    "print(f'mae:{mae}, mse:{mse}, r2_score:{rs}')"
   ]
  },
  {
   "cell_type": "code",
   "execution_count": 112,
   "id": "6b49dedf",
   "metadata": {},
   "outputs": [
    {
     "name": "stdout",
     "output_type": "stream",
     "text": [
      "the gbr score is 0.8232671937814606\n",
      "mae:1181519.6954807749, mse:45576208907250.695, r2_score:0.8232671937814606\n"
     ]
    }
   ],
   "source": [
    "gbr = GradientBoostingRegressor(\n",
    "    n_estimators=30,\n",
    "    learning_rate=0.1,\n",
    "    max_depth=3,\n",
    "    min_samples_split=2, \n",
    "    min_samples_leaf=1,\n",
    "    random_state=0\n",
    ")\n",
    "\n",
    "gbr.fit(x_train, y_train)\n",
    "y_gbr_pred = gbr.predict(x_test)\n",
    "\n",
    "gbr_score = gbr.score(x_test,y_test)\n",
    "mae = mean_absolute_error(y_test,y_gbr_pred)\n",
    "mse = mean_squared_error(y_test,y_gbr_pred)\n",
    "rs = r2_score(y_test,y_gbr_pred)\n",
    "\n",
    "print(f'the gbr score is {gbr_score}')\n",
    "print(f'mae:{mae}, mse:{mse}, r2_score:{rs}')"
   ]
  },
  {
   "cell_type": "code",
   "execution_count": 124,
   "id": "66ce3348",
   "metadata": {},
   "outputs": [
    {
     "name": "stdout",
     "output_type": "stream",
     "text": [
      "the kr score is 0.7030619218970595\n",
      "mae:563705.1972686733, mse:76574984405569.22, r2_score:0.7030619218970595\n"
     ]
    }
   ],
   "source": [
    "kr = KNeighborsRegressor(n_neighbors=2,weights='uniform',algorithm='ball_tree')\n",
    "kr.fit(x_train,y_train)\n",
    "y_kr_predict = kr.predict(x_test)\n",
    "\n",
    "kr_score = kr.score(x_test,y_test)\n",
    "mae = mean_absolute_error(y_test,y_kr_predict)\n",
    "mse = mean_squared_error(y_test,y_kr_predict)\n",
    "rs = r2_score(y_test,y_kr_predict)\n",
    "\n",
    "print(f'the kr score is {kr_score}')\n",
    "print(f'mae:{mae}, mse:{mse}, r2_score:{rs}')"
   ]
  }
 ],
 "metadata": {
  "kernelspec": {
   "display_name": ".venv",
   "language": "python",
   "name": "python3"
  },
  "language_info": {
   "codemirror_mode": {
    "name": "ipython",
    "version": 3
   },
   "file_extension": ".py",
   "mimetype": "text/x-python",
   "name": "python",
   "nbconvert_exporter": "python",
   "pygments_lexer": "ipython3",
   "version": "3.11.4"
  }
 },
 "nbformat": 4,
 "nbformat_minor": 5
}
