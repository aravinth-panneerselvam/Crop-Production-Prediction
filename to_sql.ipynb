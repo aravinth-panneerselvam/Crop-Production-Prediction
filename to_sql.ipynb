{
 "cells": [
  {
   "cell_type": "code",
   "execution_count": 1,
   "id": "61905438",
   "metadata": {},
   "outputs": [],
   "source": [
    "import pandas as pd\n",
    "from sqlalchemy import create_engine\n",
    "from sqlalchemy import text\n",
    "import sqlite3\n",
    "import psycopg2\n",
    "import streamlit as st"
   ]
  },
  {
   "cell_type": "code",
   "execution_count": 2,
   "id": "bc07cc08",
   "metadata": {},
   "outputs": [],
   "source": [
    "# Database Credentials\n",
    "user = \"postgres\"\n",
    "password = \"123456\"\n",
    "db_name = \"crop_production_prediction\"\n",
    "host = \"localhost\"\n",
    "\n",
    "# Defining Engine to Push data using SQLAlchemy\n",
    "sa_conn = f\"postgresql://{user}:{password}@{host}/{db_name}\"\n",
    "engine = create_engine(sa_conn)"
   ]
  },
  {
   "cell_type": "code",
   "execution_count": 3,
   "id": "0b7271f3",
   "metadata": {},
   "outputs": [
    {
     "data": {
      "text/plain": [
       "6"
      ]
     },
     "execution_count": 3,
     "metadata": {},
     "output_type": "execute_result"
    }
   ],
   "source": [
    "file3 = \"cleaned_df.csv\"\n",
    "f3 = pd.read_csv(file3)\n",
    "f3.to_sql(\"crops_table\", engine, if_exists = \"replace\", index=False)"
   ]
  }
 ],
 "metadata": {
  "kernelspec": {
   "display_name": "Python (.venv)",
   "language": "python",
   "name": "venv-kernel"
  },
  "language_info": {
   "codemirror_mode": {
    "name": "ipython",
    "version": 3
   },
   "file_extension": ".py",
   "mimetype": "text/x-python",
   "name": "python",
   "nbconvert_exporter": "python",
   "pygments_lexer": "ipython3",
   "version": "3.11.4"
  }
 },
 "nbformat": 4,
 "nbformat_minor": 5
}
