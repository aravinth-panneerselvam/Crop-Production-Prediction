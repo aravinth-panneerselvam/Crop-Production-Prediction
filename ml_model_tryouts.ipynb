{
 "cells": [
  {
   "cell_type": "code",
   "execution_count": 4,
   "id": "11f4c598",
   "metadata": {},
   "outputs": [],
   "source": [
    "import pandas as pd\n",
    "import numpy as np\n",
    "import matplotlib.pyplot as plt\n",
    "import plotly.express as px\n",
    "import plotly.graph_objects as go\n",
    "import seaborn as sns\n",
    "import warnings\n",
    "from datetime import datetime\n",
    "import country_converter as coco\n",
    "warnings.simplefilter('ignore')\n",
    "from sklearn.linear_model import LinearRegression,Ridge,Lasso,LogisticRegression\n",
    "from sklearn.preprocessing import LabelEncoder,OneHotEncoder,PolynomialFeatures\n",
    "from sklearn.model_selection import train_test_split\n",
    "from sklearn.impute import KNNImputer\n",
    "from sklearn.metrics import mean_absolute_error,mean_squared_error,r2_score,accuracy_score\n",
    "from sklearn.pipeline import make_pipeline\n",
    "from sklearn.ensemble import RandomForestRegressor\n",
    "from sklearn.neighbors import KNeighborsRegressor"
   ]
  },
  {
   "cell_type": "code",
   "execution_count": 5,
   "id": "05b1587b",
   "metadata": {},
   "outputs": [
    {
     "data": {
      "application/vnd.microsoft.datawrangler.viewer.v0+json": {
       "columns": [
        {
         "name": "index",
         "rawType": "int64",
         "type": "integer"
        },
        {
         "name": "Country",
         "rawType": "object",
         "type": "string"
        },
        {
         "name": "Item",
         "rawType": "object",
         "type": "string"
        },
        {
         "name": "Year",
         "rawType": "int64",
         "type": "integer"
        },
        {
         "name": "production_in_t",
         "rawType": "float64",
         "type": "float"
        },
        {
         "name": "area_in_h",
         "rawType": "float64",
         "type": "float"
        },
        {
         "name": "yield_in_kg_per_h",
         "rawType": "float64",
         "type": "float"
        }
       ],
       "ref": "91e0b375-e581-472e-8d98-1faa2cfd230c",
       "rows": [
        [
         "0",
         "Afghanistan",
         "Almonds, in shell",
         "2019",
         "38205.0",
         "29203.0",
         "1308.0"
        ],
        [
         "1",
         "Afghanistan",
         "Almonds, in shell",
         "2020",
         "39307.0",
         "22134.0",
         "1776.0"
        ],
        [
         "2",
         "Afghanistan",
         "Almonds, in shell",
         "2021",
         "64256.0",
         "36862.0",
         "1743.0"
        ],
        [
         "3",
         "Afghanistan",
         "Almonds, in shell",
         "2022",
         "63515.0",
         "36462.0",
         "1742.0"
        ],
        [
         "4",
         "Afghanistan",
         "Almonds, in shell",
         "2023",
         "67000.0",
         "37000.0",
         "1811.0"
        ],
        [
         "5",
         "Afghanistan",
         "Anise, badian, coriander, cumin, caraway, fennel and juniper berries, raw",
         "2019",
         "17808.0",
         "25293.0",
         "704.0"
        ],
        [
         "6",
         "Afghanistan",
         "Anise, badian, coriander, cumin, caraway, fennel and juniper berries, raw",
         "2020",
         "17966.0",
         "25558.0",
         "703.0"
        ],
        [
         "7",
         "Afghanistan",
         "Anise, badian, coriander, cumin, caraway, fennel and juniper berries, raw",
         "2021",
         "17876.0",
         "25357.0",
         "705.0"
        ],
        [
         "8",
         "Afghanistan",
         "Anise, badian, coriander, cumin, caraway, fennel and juniper berries, raw",
         "2022",
         "17883.0",
         "25403.0",
         "704.0"
        ],
        [
         "9",
         "Afghanistan",
         "Anise, badian, coriander, cumin, caraway, fennel and juniper berries, raw",
         "2023",
         "17909.0",
         "25439.0",
         "704.0"
        ],
        [
         "10",
         "Afghanistan",
         "Apples",
         "2019",
         "250324.0",
         "27559.0",
         "9083.0"
        ],
        [
         "11",
         "Afghanistan",
         "Apples",
         "2020",
         "270857.0",
         "25643.0",
         "10563.0"
        ],
        [
         "12",
         "Afghanistan",
         "Apples",
         "2021",
         "321672.0",
         "30463.0",
         "10559.0"
        ],
        [
         "13",
         "Afghanistan",
         "Apples",
         "2022",
         "318402.0",
         "30163.0",
         "10556.0"
        ],
        [
         "14",
         "Afghanistan",
         "Apples",
         "2023",
         "324000.0",
         "31000.0",
         "10452.0"
        ],
        [
         "15",
         "Afghanistan",
         "Apricots",
         "2019",
         "129363.0",
         "17719.0",
         "7301.0"
        ],
        [
         "16",
         "Afghanistan",
         "Apricots",
         "2020",
         "131788.0",
         "17481.0",
         "7539.0"
        ],
        [
         "17",
         "Afghanistan",
         "Apricots",
         "2021",
         "207490.0",
         "27082.0",
         "7662.0"
        ],
        [
         "18",
         "Afghanistan",
         "Apricots",
         "2022",
         "170508.0",
         "26731.0",
         "6379.0"
        ],
        [
         "19",
         "Afghanistan",
         "Apricots",
         "2023",
         "155429.0",
         "22008.0",
         "7062.0"
        ],
        [
         "20",
         "Afghanistan",
         "Barley",
         "2019",
         "123576.0",
         "84070.0",
         "1470.0"
        ],
        [
         "21",
         "Afghanistan",
         "Barley",
         "2020",
         "127757.0",
         "86099.0",
         "1484.0"
        ],
        [
         "22",
         "Afghanistan",
         "Barley",
         "2021",
         "65102.0",
         "40273.0",
         "1616.0"
        ],
        [
         "23",
         "Afghanistan",
         "Barley",
         "2022",
         "94687.0",
         "61952.0",
         "1528.0"
        ],
        [
         "24",
         "Afghanistan",
         "Barley",
         "2023",
         "110000.0",
         "80000.0",
         "1375.0"
        ],
        [
         "25",
         "Afghanistan",
         "Butter and ghee of sheep milk",
         "2019",
         "3804.0",
         null,
         null
        ],
        [
         "26",
         "Afghanistan",
         "Butter and ghee of sheep milk",
         "2020",
         "4605.0",
         null,
         null
        ],
        [
         "27",
         "Afghanistan",
         "Butter and ghee of sheep milk",
         "2021",
         "3692.0",
         null,
         null
        ],
        [
         "28",
         "Afghanistan",
         "Butter and ghee of sheep milk",
         "2022",
         "3651.0",
         null,
         null
        ],
        [
         "29",
         "Afghanistan",
         "Butter of cow milk",
         "2019",
         "36731.0",
         null,
         null
        ],
        [
         "30",
         "Afghanistan",
         "Butter of cow milk",
         "2020",
         "36357.0",
         null,
         null
        ],
        [
         "31",
         "Afghanistan",
         "Butter of cow milk",
         "2021",
         "38509.0",
         null,
         null
        ],
        [
         "32",
         "Afghanistan",
         "Butter of cow milk",
         "2022",
         "38918.0",
         null,
         null
        ],
        [
         "33",
         "Afghanistan",
         "Buttermilk, dry",
         "2019",
         "5896.0",
         null,
         null
        ],
        [
         "34",
         "Afghanistan",
         "Buttermilk, dry",
         "2020",
         "5829.0",
         null,
         null
        ],
        [
         "35",
         "Afghanistan",
         "Buttermilk, dry",
         "2021",
         "6158.0",
         null,
         null
        ],
        [
         "36",
         "Afghanistan",
         "Buttermilk, dry",
         "2022",
         "6220.0",
         null,
         null
        ],
        [
         "37",
         "Afghanistan",
         "Cantaloupes and other melons",
         "2019",
         "464230.0",
         "37136.0",
         "12501.0"
        ],
        [
         "38",
         "Afghanistan",
         "Cantaloupes and other melons",
         "2020",
         "793496.0",
         "58942.0",
         "13462.0"
        ],
        [
         "39",
         "Afghanistan",
         "Cantaloupes and other melons",
         "2021",
         "763383.0",
         "59437.0",
         "12844.0"
        ],
        [
         "40",
         "Afghanistan",
         "Cantaloupes and other melons",
         "2022",
         "762543.0",
         "70902.0",
         "10755.0"
        ],
        [
         "41",
         "Afghanistan",
         "Cantaloupes and other melons",
         "2023",
         "795100.0",
         "73628.0",
         "10799.0"
        ],
        [
         "42",
         "Afghanistan",
         "Cattle fat, unrendered",
         "2019",
         "2183.0",
         null,
         null
        ],
        [
         "43",
         "Afghanistan",
         "Cattle fat, unrendered",
         "2020",
         "2174.0",
         null,
         null
        ],
        [
         "44",
         "Afghanistan",
         "Cattle fat, unrendered",
         "2021",
         "2006.0",
         null,
         null
        ],
        [
         "45",
         "Afghanistan",
         "Cattle fat, unrendered",
         "2022",
         "1878.0",
         null,
         null
        ],
        [
         "46",
         "Afghanistan",
         "Cattle fat, unrendered",
         "2023",
         "1750.0",
         null,
         null
        ],
        [
         "47",
         "Afghanistan",
         "Cheese from milk of goats, fresh or processed",
         "2019",
         "10632.0",
         null,
         null
        ],
        [
         "48",
         "Afghanistan",
         "Cheese from milk of goats, fresh or processed",
         "2020",
         "10575.0",
         null,
         null
        ],
        [
         "49",
         "Afghanistan",
         "Cheese from milk of goats, fresh or processed",
         "2021",
         "10545.0",
         null,
         null
        ]
       ],
       "shape": {
        "columns": 6,
        "rows": 89698
       }
      },
      "text/html": [
       "<div>\n",
       "<style scoped>\n",
       "    .dataframe tbody tr th:only-of-type {\n",
       "        vertical-align: middle;\n",
       "    }\n",
       "\n",
       "    .dataframe tbody tr th {\n",
       "        vertical-align: top;\n",
       "    }\n",
       "\n",
       "    .dataframe thead th {\n",
       "        text-align: right;\n",
       "    }\n",
       "</style>\n",
       "<table border=\"1\" class=\"dataframe\">\n",
       "  <thead>\n",
       "    <tr style=\"text-align: right;\">\n",
       "      <th></th>\n",
       "      <th>Country</th>\n",
       "      <th>Item</th>\n",
       "      <th>Year</th>\n",
       "      <th>production_in_t</th>\n",
       "      <th>area_in_h</th>\n",
       "      <th>yield_in_kg_per_h</th>\n",
       "    </tr>\n",
       "  </thead>\n",
       "  <tbody>\n",
       "    <tr>\n",
       "      <th>0</th>\n",
       "      <td>Afghanistan</td>\n",
       "      <td>Almonds, in shell</td>\n",
       "      <td>2019</td>\n",
       "      <td>38205.0</td>\n",
       "      <td>29203.0</td>\n",
       "      <td>1308.0</td>\n",
       "    </tr>\n",
       "    <tr>\n",
       "      <th>1</th>\n",
       "      <td>Afghanistan</td>\n",
       "      <td>Almonds, in shell</td>\n",
       "      <td>2020</td>\n",
       "      <td>39307.0</td>\n",
       "      <td>22134.0</td>\n",
       "      <td>1776.0</td>\n",
       "    </tr>\n",
       "    <tr>\n",
       "      <th>2</th>\n",
       "      <td>Afghanistan</td>\n",
       "      <td>Almonds, in shell</td>\n",
       "      <td>2021</td>\n",
       "      <td>64256.0</td>\n",
       "      <td>36862.0</td>\n",
       "      <td>1743.0</td>\n",
       "    </tr>\n",
       "    <tr>\n",
       "      <th>3</th>\n",
       "      <td>Afghanistan</td>\n",
       "      <td>Almonds, in shell</td>\n",
       "      <td>2022</td>\n",
       "      <td>63515.0</td>\n",
       "      <td>36462.0</td>\n",
       "      <td>1742.0</td>\n",
       "    </tr>\n",
       "    <tr>\n",
       "      <th>4</th>\n",
       "      <td>Afghanistan</td>\n",
       "      <td>Almonds, in shell</td>\n",
       "      <td>2023</td>\n",
       "      <td>67000.0</td>\n",
       "      <td>37000.0</td>\n",
       "      <td>1811.0</td>\n",
       "    </tr>\n",
       "    <tr>\n",
       "      <th>...</th>\n",
       "      <td>...</td>\n",
       "      <td>...</td>\n",
       "      <td>...</td>\n",
       "      <td>...</td>\n",
       "      <td>...</td>\n",
       "      <td>...</td>\n",
       "    </tr>\n",
       "    <tr>\n",
       "      <th>89693</th>\n",
       "      <td>Zimbabwe</td>\n",
       "      <td>Whole milk, evaporated</td>\n",
       "      <td>2019</td>\n",
       "      <td>5010.0</td>\n",
       "      <td>NaN</td>\n",
       "      <td>NaN</td>\n",
       "    </tr>\n",
       "    <tr>\n",
       "      <th>89694</th>\n",
       "      <td>Zimbabwe</td>\n",
       "      <td>Whole milk, evaporated</td>\n",
       "      <td>2020</td>\n",
       "      <td>4796.0</td>\n",
       "      <td>NaN</td>\n",
       "      <td>NaN</td>\n",
       "    </tr>\n",
       "    <tr>\n",
       "      <th>89695</th>\n",
       "      <td>Zimbabwe</td>\n",
       "      <td>Whole milk, evaporated</td>\n",
       "      <td>2021</td>\n",
       "      <td>4921.0</td>\n",
       "      <td>NaN</td>\n",
       "      <td>NaN</td>\n",
       "    </tr>\n",
       "    <tr>\n",
       "      <th>89696</th>\n",
       "      <td>Zimbabwe</td>\n",
       "      <td>Whole milk, evaporated</td>\n",
       "      <td>2022</td>\n",
       "      <td>4966.0</td>\n",
       "      <td>NaN</td>\n",
       "      <td>NaN</td>\n",
       "    </tr>\n",
       "    <tr>\n",
       "      <th>89697</th>\n",
       "      <td>Zimbabwe</td>\n",
       "      <td>Wine</td>\n",
       "      <td>2019</td>\n",
       "      <td>NaN</td>\n",
       "      <td>NaN</td>\n",
       "      <td>NaN</td>\n",
       "    </tr>\n",
       "  </tbody>\n",
       "</table>\n",
       "<p>89698 rows × 6 columns</p>\n",
       "</div>"
      ],
      "text/plain": [
       "           Country                    Item  Year  production_in_t  area_in_h  \\\n",
       "0      Afghanistan       Almonds, in shell  2019          38205.0    29203.0   \n",
       "1      Afghanistan       Almonds, in shell  2020          39307.0    22134.0   \n",
       "2      Afghanistan       Almonds, in shell  2021          64256.0    36862.0   \n",
       "3      Afghanistan       Almonds, in shell  2022          63515.0    36462.0   \n",
       "4      Afghanistan       Almonds, in shell  2023          67000.0    37000.0   \n",
       "...            ...                     ...   ...              ...        ...   \n",
       "89693     Zimbabwe  Whole milk, evaporated  2019           5010.0        NaN   \n",
       "89694     Zimbabwe  Whole milk, evaporated  2020           4796.0        NaN   \n",
       "89695     Zimbabwe  Whole milk, evaporated  2021           4921.0        NaN   \n",
       "89696     Zimbabwe  Whole milk, evaporated  2022           4966.0        NaN   \n",
       "89697     Zimbabwe                    Wine  2019              NaN        NaN   \n",
       "\n",
       "       yield_in_kg_per_h  \n",
       "0                 1308.0  \n",
       "1                 1776.0  \n",
       "2                 1743.0  \n",
       "3                 1742.0  \n",
       "4                 1811.0  \n",
       "...                  ...  \n",
       "89693                NaN  \n",
       "89694                NaN  \n",
       "89695                NaN  \n",
       "89696                NaN  \n",
       "89697                NaN  \n",
       "\n",
       "[89698 rows x 6 columns]"
      ]
     },
     "execution_count": 5,
     "metadata": {},
     "output_type": "execute_result"
    }
   ],
   "source": [
    "df = pd.read_csv(\"draft2.csv\")\n",
    "df"
   ]
  },
  {
   "cell_type": "code",
   "execution_count": 6,
   "id": "945e8035",
   "metadata": {},
   "outputs": [],
   "source": [
    "df = df.dropna(subset=['production_in_t','area_in_h','yield_in_kg_per_h'])"
   ]
  },
  {
   "cell_type": "code",
   "execution_count": 29,
   "id": "e3626dea",
   "metadata": {},
   "outputs": [
    {
     "data": {
      "application/vnd.microsoft.datawrangler.viewer.v0+json": {
       "columns": [
        {
         "name": "index",
         "rawType": "int64",
         "type": "integer"
        },
        {
         "name": "Country",
         "rawType": "object",
         "type": "string"
        },
        {
         "name": "Item",
         "rawType": "object",
         "type": "string"
        },
        {
         "name": "Year",
         "rawType": "int64",
         "type": "integer"
        },
        {
         "name": "production_in_t",
         "rawType": "float64",
         "type": "float"
        },
        {
         "name": "area_in_h",
         "rawType": "float64",
         "type": "float"
        },
        {
         "name": "yield_in_kg_per_h",
         "rawType": "float64",
         "type": "float"
        },
        {
         "name": "country_encoded",
         "rawType": "int64",
         "type": "integer"
        },
        {
         "name": "Item_encoded",
         "rawType": "int64",
         "type": "integer"
        }
       ],
       "ref": "a8303b9e-555e-47bc-ad9e-ca686b31eef6",
       "rows": [
        [
         "0",
         "Afghanistan",
         "Almonds, in shell",
         "2019",
         "38205.0",
         "29203.0",
         "1308.0",
         "0",
         "2"
        ],
        [
         "1",
         "Afghanistan",
         "Almonds, in shell",
         "2020",
         "39307.0",
         "22134.0",
         "1776.0",
         "0",
         "2"
        ],
        [
         "2",
         "Afghanistan",
         "Almonds, in shell",
         "2021",
         "64256.0",
         "36862.0",
         "1743.0",
         "0",
         "2"
        ],
        [
         "3",
         "Afghanistan",
         "Almonds, in shell",
         "2022",
         "63515.0",
         "36462.0",
         "1742.0",
         "0",
         "2"
        ],
        [
         "4",
         "Afghanistan",
         "Almonds, in shell",
         "2023",
         "67000.0",
         "37000.0",
         "1811.0",
         "0",
         "2"
        ],
        [
         "5",
         "Afghanistan",
         "Anise, badian, coriander, cumin, caraway, fennel and juniper berries, raw",
         "2019",
         "17808.0",
         "25293.0",
         "704.0",
         "0",
         "3"
        ],
        [
         "6",
         "Afghanistan",
         "Anise, badian, coriander, cumin, caraway, fennel and juniper berries, raw",
         "2020",
         "17966.0",
         "25558.0",
         "703.0",
         "0",
         "3"
        ],
        [
         "7",
         "Afghanistan",
         "Anise, badian, coriander, cumin, caraway, fennel and juniper berries, raw",
         "2021",
         "17876.0",
         "25357.0",
         "705.0",
         "0",
         "3"
        ],
        [
         "8",
         "Afghanistan",
         "Anise, badian, coriander, cumin, caraway, fennel and juniper berries, raw",
         "2022",
         "17883.0",
         "25403.0",
         "704.0",
         "0",
         "3"
        ],
        [
         "9",
         "Afghanistan",
         "Anise, badian, coriander, cumin, caraway, fennel and juniper berries, raw",
         "2023",
         "17909.0",
         "25439.0",
         "704.0",
         "0",
         "3"
        ],
        [
         "10",
         "Afghanistan",
         "Apples",
         "2019",
         "250324.0",
         "27559.0",
         "9083.0",
         "0",
         "4"
        ],
        [
         "11",
         "Afghanistan",
         "Apples",
         "2020",
         "270857.0",
         "25643.0",
         "10563.0",
         "0",
         "4"
        ],
        [
         "12",
         "Afghanistan",
         "Apples",
         "2021",
         "321672.0",
         "30463.0",
         "10559.0",
         "0",
         "4"
        ],
        [
         "13",
         "Afghanistan",
         "Apples",
         "2022",
         "318402.0",
         "30163.0",
         "10556.0",
         "0",
         "4"
        ],
        [
         "14",
         "Afghanistan",
         "Apples",
         "2023",
         "324000.0",
         "31000.0",
         "10452.0",
         "0",
         "4"
        ],
        [
         "15",
         "Afghanistan",
         "Apricots",
         "2019",
         "129363.0",
         "17719.0",
         "7301.0",
         "0",
         "5"
        ],
        [
         "16",
         "Afghanistan",
         "Apricots",
         "2020",
         "131788.0",
         "17481.0",
         "7539.0",
         "0",
         "5"
        ],
        [
         "17",
         "Afghanistan",
         "Apricots",
         "2021",
         "207490.0",
         "27082.0",
         "7662.0",
         "0",
         "5"
        ],
        [
         "18",
         "Afghanistan",
         "Apricots",
         "2022",
         "170508.0",
         "26731.0",
         "6379.0",
         "0",
         "5"
        ],
        [
         "19",
         "Afghanistan",
         "Apricots",
         "2023",
         "155429.0",
         "22008.0",
         "7062.0",
         "0",
         "5"
        ],
        [
         "20",
         "Afghanistan",
         "Barley",
         "2019",
         "123576.0",
         "84070.0",
         "1470.0",
         "0",
         "12"
        ],
        [
         "21",
         "Afghanistan",
         "Barley",
         "2020",
         "127757.0",
         "86099.0",
         "1484.0",
         "0",
         "12"
        ],
        [
         "22",
         "Afghanistan",
         "Barley",
         "2021",
         "65102.0",
         "40273.0",
         "1616.0",
         "0",
         "12"
        ],
        [
         "23",
         "Afghanistan",
         "Barley",
         "2022",
         "94687.0",
         "61952.0",
         "1528.0",
         "0",
         "12"
        ],
        [
         "24",
         "Afghanistan",
         "Barley",
         "2023",
         "110000.0",
         "80000.0",
         "1375.0",
         "0",
         "12"
        ],
        [
         "37",
         "Afghanistan",
         "Cantaloupes and other melons",
         "2019",
         "464230.0",
         "37136.0",
         "12501.0",
         "0",
         "20"
        ],
        [
         "38",
         "Afghanistan",
         "Cantaloupes and other melons",
         "2020",
         "793496.0",
         "58942.0",
         "13462.0",
         "0",
         "20"
        ],
        [
         "39",
         "Afghanistan",
         "Cantaloupes and other melons",
         "2021",
         "763383.0",
         "59437.0",
         "12844.0",
         "0",
         "20"
        ],
        [
         "40",
         "Afghanistan",
         "Cantaloupes and other melons",
         "2022",
         "762543.0",
         "70902.0",
         "10755.0",
         "0",
         "20"
        ],
        [
         "41",
         "Afghanistan",
         "Cantaloupes and other melons",
         "2023",
         "795100.0",
         "73628.0",
         "10799.0",
         "0",
         "20"
        ],
        [
         "92",
         "Afghanistan",
         "Figs",
         "2019",
         "24319.0",
         "3529.0",
         "6891.0",
         "0",
         "46"
        ],
        [
         "93",
         "Afghanistan",
         "Figs",
         "2020",
         "15994.0",
         "3219.0",
         "4969.0",
         "0",
         "46"
        ],
        [
         "94",
         "Afghanistan",
         "Figs",
         "2021",
         "59756.0",
         "10077.0",
         "5930.0",
         "0",
         "46"
        ],
        [
         "95",
         "Afghanistan",
         "Figs",
         "2022",
         "58036.0",
         "9787.0",
         "5930.0",
         "0",
         "46"
        ],
        [
         "96",
         "Afghanistan",
         "Figs",
         "2023",
         "60651.0",
         "10228.0",
         "5930.0",
         "0",
         "46"
        ],
        [
         "107",
         "Afghanistan",
         "Grapes",
         "2019",
         "1112927.0",
         "89593.0",
         "12422.0",
         "0",
         "51"
        ],
        [
         "108",
         "Afghanistan",
         "Grapes",
         "2020",
         "993382.0",
         "92584.0",
         "10730.0",
         "0",
         "51"
        ],
        [
         "109",
         "Afghanistan",
         "Grapes",
         "2021",
         "993884.0",
         "92645.0",
         "10728.0",
         "0",
         "51"
        ],
        [
         "110",
         "Afghanistan",
         "Grapes",
         "2022",
         "909792.0",
         "92600.0",
         "9825.0",
         "0",
         "51"
        ],
        [
         "111",
         "Afghanistan",
         "Grapes",
         "2023",
         "1086000.0",
         "93000.0",
         "11677.0",
         "0",
         "51"
        ],
        [
         "132",
         "Afghanistan",
         "Linseed",
         "2019",
         "55000.0",
         "38323.0",
         "1435.0",
         "0",
         "69"
        ],
        [
         "133",
         "Afghanistan",
         "Linseed",
         "2020",
         "34216.0",
         "31089.0",
         "1101.0",
         "0",
         "69"
        ],
        [
         "134",
         "Afghanistan",
         "Linseed",
         "2021",
         "31165.0",
         "31329.0",
         "995.0",
         "0",
         "69"
        ],
        [
         "135",
         "Afghanistan",
         "Linseed",
         "2022",
         "28579.0",
         "31605.0",
         "904.0",
         "0",
         "69"
        ],
        [
         "136",
         "Afghanistan",
         "Linseed",
         "2023",
         "29000.0",
         "35000.0",
         "829.0",
         "0",
         "69"
        ],
        [
         "137",
         "Afghanistan",
         "Maize (corn)",
         "2019",
         "184671.0",
         "94910.0",
         "1946.0",
         "0",
         "72"
        ],
        [
         "138",
         "Afghanistan",
         "Maize (corn)",
         "2020",
         "271776.0",
         "140498.0",
         "1934.0",
         "0",
         "72"
        ],
        [
         "139",
         "Afghanistan",
         "Maize (corn)",
         "2021",
         "264314.0",
         "139080.0",
         "1900.0",
         "0",
         "72"
        ],
        [
         "140",
         "Afghanistan",
         "Maize (corn)",
         "2022",
         "311000.0",
         "139000.0",
         "2237.0",
         "0",
         "72"
        ],
        [
         "141",
         "Afghanistan",
         "Maize (corn)",
         "2023",
         "363000.0",
         "127000.0",
         "2858.0",
         "0",
         "72"
        ]
       ],
       "shape": {
        "columns": 8,
        "rows": 46340
       }
      },
      "text/html": [
       "<div>\n",
       "<style scoped>\n",
       "    .dataframe tbody tr th:only-of-type {\n",
       "        vertical-align: middle;\n",
       "    }\n",
       "\n",
       "    .dataframe tbody tr th {\n",
       "        vertical-align: top;\n",
       "    }\n",
       "\n",
       "    .dataframe thead th {\n",
       "        text-align: right;\n",
       "    }\n",
       "</style>\n",
       "<table border=\"1\" class=\"dataframe\">\n",
       "  <thead>\n",
       "    <tr style=\"text-align: right;\">\n",
       "      <th></th>\n",
       "      <th>Country</th>\n",
       "      <th>Item</th>\n",
       "      <th>Year</th>\n",
       "      <th>production_in_t</th>\n",
       "      <th>area_in_h</th>\n",
       "      <th>yield_in_kg_per_h</th>\n",
       "      <th>country_encoded</th>\n",
       "      <th>Item_encoded</th>\n",
       "    </tr>\n",
       "  </thead>\n",
       "  <tbody>\n",
       "    <tr>\n",
       "      <th>0</th>\n",
       "      <td>Afghanistan</td>\n",
       "      <td>Almonds, in shell</td>\n",
       "      <td>2019</td>\n",
       "      <td>38205.0</td>\n",
       "      <td>29203.0</td>\n",
       "      <td>1308.0</td>\n",
       "      <td>0</td>\n",
       "      <td>2</td>\n",
       "    </tr>\n",
       "    <tr>\n",
       "      <th>1</th>\n",
       "      <td>Afghanistan</td>\n",
       "      <td>Almonds, in shell</td>\n",
       "      <td>2020</td>\n",
       "      <td>39307.0</td>\n",
       "      <td>22134.0</td>\n",
       "      <td>1776.0</td>\n",
       "      <td>0</td>\n",
       "      <td>2</td>\n",
       "    </tr>\n",
       "    <tr>\n",
       "      <th>2</th>\n",
       "      <td>Afghanistan</td>\n",
       "      <td>Almonds, in shell</td>\n",
       "      <td>2021</td>\n",
       "      <td>64256.0</td>\n",
       "      <td>36862.0</td>\n",
       "      <td>1743.0</td>\n",
       "      <td>0</td>\n",
       "      <td>2</td>\n",
       "    </tr>\n",
       "    <tr>\n",
       "      <th>3</th>\n",
       "      <td>Afghanistan</td>\n",
       "      <td>Almonds, in shell</td>\n",
       "      <td>2022</td>\n",
       "      <td>63515.0</td>\n",
       "      <td>36462.0</td>\n",
       "      <td>1742.0</td>\n",
       "      <td>0</td>\n",
       "      <td>2</td>\n",
       "    </tr>\n",
       "    <tr>\n",
       "      <th>4</th>\n",
       "      <td>Afghanistan</td>\n",
       "      <td>Almonds, in shell</td>\n",
       "      <td>2023</td>\n",
       "      <td>67000.0</td>\n",
       "      <td>37000.0</td>\n",
       "      <td>1811.0</td>\n",
       "      <td>0</td>\n",
       "      <td>2</td>\n",
       "    </tr>\n",
       "    <tr>\n",
       "      <th>...</th>\n",
       "      <td>...</td>\n",
       "      <td>...</td>\n",
       "      <td>...</td>\n",
       "      <td>...</td>\n",
       "      <td>...</td>\n",
       "      <td>...</td>\n",
       "      <td>...</td>\n",
       "      <td>...</td>\n",
       "    </tr>\n",
       "    <tr>\n",
       "      <th>89680</th>\n",
       "      <td>Zimbabwe</td>\n",
       "      <td>Wheat</td>\n",
       "      <td>2019</td>\n",
       "      <td>94685.0</td>\n",
       "      <td>24186.0</td>\n",
       "      <td>3915.0</td>\n",
       "      <td>198</td>\n",
       "      <td>153</td>\n",
       "    </tr>\n",
       "    <tr>\n",
       "      <th>89681</th>\n",
       "      <td>Zimbabwe</td>\n",
       "      <td>Wheat</td>\n",
       "      <td>2020</td>\n",
       "      <td>212530.0</td>\n",
       "      <td>44466.0</td>\n",
       "      <td>4780.0</td>\n",
       "      <td>198</td>\n",
       "      <td>153</td>\n",
       "    </tr>\n",
       "    <tr>\n",
       "      <th>89682</th>\n",
       "      <td>Zimbabwe</td>\n",
       "      <td>Wheat</td>\n",
       "      <td>2021</td>\n",
       "      <td>337212.0</td>\n",
       "      <td>66434.0</td>\n",
       "      <td>5076.0</td>\n",
       "      <td>198</td>\n",
       "      <td>153</td>\n",
       "    </tr>\n",
       "    <tr>\n",
       "      <th>89683</th>\n",
       "      <td>Zimbabwe</td>\n",
       "      <td>Wheat</td>\n",
       "      <td>2022</td>\n",
       "      <td>250000.0</td>\n",
       "      <td>48504.0</td>\n",
       "      <td>5154.0</td>\n",
       "      <td>198</td>\n",
       "      <td>153</td>\n",
       "    </tr>\n",
       "    <tr>\n",
       "      <th>89684</th>\n",
       "      <td>Zimbabwe</td>\n",
       "      <td>Wheat</td>\n",
       "      <td>2023</td>\n",
       "      <td>300000.0</td>\n",
       "      <td>65878.0</td>\n",
       "      <td>4554.0</td>\n",
       "      <td>198</td>\n",
       "      <td>153</td>\n",
       "    </tr>\n",
       "  </tbody>\n",
       "</table>\n",
       "<p>46340 rows × 8 columns</p>\n",
       "</div>"
      ],
      "text/plain": [
       "           Country               Item  Year  production_in_t  area_in_h  \\\n",
       "0      Afghanistan  Almonds, in shell  2019          38205.0    29203.0   \n",
       "1      Afghanistan  Almonds, in shell  2020          39307.0    22134.0   \n",
       "2      Afghanistan  Almonds, in shell  2021          64256.0    36862.0   \n",
       "3      Afghanistan  Almonds, in shell  2022          63515.0    36462.0   \n",
       "4      Afghanistan  Almonds, in shell  2023          67000.0    37000.0   \n",
       "...            ...                ...   ...              ...        ...   \n",
       "89680     Zimbabwe              Wheat  2019          94685.0    24186.0   \n",
       "89681     Zimbabwe              Wheat  2020         212530.0    44466.0   \n",
       "89682     Zimbabwe              Wheat  2021         337212.0    66434.0   \n",
       "89683     Zimbabwe              Wheat  2022         250000.0    48504.0   \n",
       "89684     Zimbabwe              Wheat  2023         300000.0    65878.0   \n",
       "\n",
       "       yield_in_kg_per_h  country_encoded  Item_encoded  \n",
       "0                 1308.0                0             2  \n",
       "1                 1776.0                0             2  \n",
       "2                 1743.0                0             2  \n",
       "3                 1742.0                0             2  \n",
       "4                 1811.0                0             2  \n",
       "...                  ...              ...           ...  \n",
       "89680             3915.0              198           153  \n",
       "89681             4780.0              198           153  \n",
       "89682             5076.0              198           153  \n",
       "89683             5154.0              198           153  \n",
       "89684             4554.0              198           153  \n",
       "\n",
       "[46340 rows x 8 columns]"
      ]
     },
     "execution_count": 29,
     "metadata": {},
     "output_type": "execute_result"
    }
   ],
   "source": [
    "df"
   ]
  },
  {
   "cell_type": "code",
   "execution_count": 7,
   "id": "8f4446c9",
   "metadata": {},
   "outputs": [],
   "source": [
    "# Encoding\n",
    "lb_en = LabelEncoder()\n",
    "df['country_encoded'] = lb_en.fit_transform(df['Country'])\n",
    "df['Item_encoded'] = lb_en.fit_transform(df['Item'])"
   ]
  },
  {
   "cell_type": "code",
   "execution_count": 8,
   "id": "aaf28dea",
   "metadata": {},
   "outputs": [
    {
     "name": "stdout",
     "output_type": "stream",
     "text": [
      "the std score is 0.5227346523968448\n",
      "mae:284773.83348119614, mse:2129729408515.7488, r2_score:0.5227346523968448\n"
     ]
    }
   ],
   "source": [
    "# Predicting the area using Linear Regression\n",
    "lr = LinearRegression()\n",
    "x = df[['country_encoded','Item_encoded','Year','production_in_t','yield_in_kg_per_h']]\n",
    "y = df['area_in_h']\n",
    "x_train,x_test,y_train,y_test = train_test_split(x,y,test_size=0.2,random_state=0)\n",
    "area_model = lr.fit(x_train,y_train)\n",
    "y_predict = lr.predict(x_test)\n",
    "\n",
    "std_score = lr.score(x_test,y_test)\n",
    "\n",
    "mae = mean_absolute_error(y_test,y_predict)\n",
    "mse = mean_squared_error(y_test,y_predict)\n",
    "rs = r2_score(y_test,y_predict)\n",
    "\n",
    "print(f'the std score is {std_score}')\n",
    "print(f'mae:{mae}, mse:{mse}, r2_score:{rs}')"
   ]
  },
  {
   "cell_type": "code",
   "execution_count": 9,
   "id": "7c2efaeb",
   "metadata": {},
   "outputs": [
    {
     "name": "stdout",
     "output_type": "stream",
     "text": [
      "the poly score is 0.8721994599959298\n",
      "mae:179555.75842712625, mse:570291913791.2754, r2_score:0.8721994599959298\n"
     ]
    }
   ],
   "source": [
    "# Polynomial Regression\n",
    "poly_model = make_pipeline(PolynomialFeatures(degree=2),LinearRegression())\n",
    "poly_model.fit(x_train,y_train)\n",
    "y_poly_predict = poly_model.predict(x_test)\n",
    "\n",
    "poly_score = poly_model.score(x_test,y_test)\n",
    "mae = mean_absolute_error(y_test,y_poly_predict)\n",
    "mse = mean_squared_error(y_test,y_poly_predict)\n",
    "rs = r2_score(y_test,y_poly_predict)\n",
    "\n",
    "print(f'the poly score is {poly_score}')\n",
    "print(f'mae:{mae}, mse:{mse}, r2_score:{rs}')"
   ]
  },
  {
   "cell_type": "code",
   "execution_count": 33,
   "id": "53be4ed4",
   "metadata": {},
   "outputs": [
    {
     "name": "stdout",
     "output_type": "stream",
     "text": [
      "the ridge score is 0.5423277526512923\n",
      "mae:289090.8146157273, mse:2042297957593.4182, r2_score:0.5423277526512923\n"
     ]
    }
   ],
   "source": [
    "# Ridge model\n",
    "ridge = Ridge(alpha=0.5)\n",
    "ridge.fit(x_test,y_test)\n",
    "y_ridge_predict = ridge.predict(x_test)\n",
    "\n",
    "ridge_score = ridge.score(x_test,y_test)\n",
    "mae = mean_absolute_error(y_test,y_ridge_predict)\n",
    "mse = mean_squared_error(y_test,y_ridge_predict)\n",
    "rs = r2_score(y_test,y_ridge_predict)\n",
    "\n",
    "print(f'the ridge score is {ridge_score}')\n",
    "print(f'mae:{mae}, mse:{mse}, r2_score:{rs}')"
   ]
  },
  {
   "cell_type": "code",
   "execution_count": 34,
   "id": "30f2ccb3",
   "metadata": {},
   "outputs": [
    {
     "name": "stdout",
     "output_type": "stream",
     "text": [
      "the lasso score is 0.5423277526512923\n",
      "mae:289090.8185595613, mse:2042297957593.343, r2_score:0.5423277526513091\n"
     ]
    }
   ],
   "source": [
    "# Lasso\n",
    "lasso = Lasso(alpha=0.5)\n",
    "lasso.fit(x_test,y_test)\n",
    "y_lasso_predict = lasso.predict(x_test)\n",
    "\n",
    "lasso_score = ridge.score(x_test,y_test)\n",
    "mae = mean_absolute_error(y_test,y_lasso_predict)\n",
    "mse = mean_squared_error(y_test,y_lasso_predict)\n",
    "rs = r2_score(y_test,y_lasso_predict)\n",
    "\n",
    "print(f'the lasso score is {lasso_score}')\n",
    "print(f'mae:{mae}, mse:{mse}, r2_score:{rs}')"
   ]
  },
  {
   "cell_type": "code",
   "execution_count": 35,
   "id": "e9abad46",
   "metadata": {},
   "outputs": [
    {
     "name": "stdout",
     "output_type": "stream",
     "text": [
      "the rf score is 0.9992317875098884\n",
      "mae:5681.2035143495195, mse:3428040062.8208957, r2_score:0.9992317875098884\n"
     ]
    }
   ],
   "source": [
    "from sklearn.ensemble import RandomForestRegressor\n",
    "\n",
    "x = df[['country_encoded','Item_encoded','Year','production_in_t','yield_in_kg_per_h']]\n",
    "y = df['area_in_h']\n",
    "\n",
    "x_train,x_test,y_train,y_test = train_test_split(x,y,test_size=0.2,random_state=0)\n",
    "\n",
    "rf = RandomForestRegressor(n_estimators=100, random_state=0, n_jobs=-1)\n",
    "rf.fit(x_train,y_train)\n",
    "y_rf_predict = rf.predict(x_test)\n",
    "\n",
    "rf_score = rf.score(x_test,y_test)\n",
    "mae = mean_absolute_error(y_test,y_rf_predict)\n",
    "mse = mean_squared_error(y_test,y_rf_predict)\n",
    "rs = r2_score(y_test,y_rf_predict)\n",
    "\n",
    "print(f'the rf score is {rf_score}')\n",
    "print(f'mae:{mae}, mse:{mse}, r2_score:{rs}')\n"
   ]
  },
  {
   "cell_type": "code",
   "execution_count": 10,
   "id": "14d893c7",
   "metadata": {},
   "outputs": [],
   "source": [
    "from sklearn.neighbors import KNeighborsRegressor\n",
    "kr = KNeighborsRegressor(n_neighbors=1, weights='distance',algorithm='ball_tree')\n",
    "x = df[['Item_encoded','production_in_t','yield_in_kg_per_h']]\n",
    "y = df['area_in_h']\n",
    "x_train,x_test,y_train,y_test = train_test_split(x,y,test_size=0.2,random_state=0)\n",
    "kr.fit(x_train,y_train)\n",
    "y_kr_predict = kr.predict(x_test)\n"
   ]
  },
  {
   "cell_type": "code",
   "execution_count": 59,
   "id": "781b5e55",
   "metadata": {},
   "outputs": [
    {
     "data": {
      "text/plain": [
       "0.8925869707696962"
      ]
     },
     "execution_count": 59,
     "metadata": {},
     "output_type": "execute_result"
    }
   ],
   "source": [
    "kr.score(x_test,y_test)"
   ]
  },
  {
   "cell_type": "code",
   "execution_count": 12,
   "id": "d6509054",
   "metadata": {},
   "outputs": [
    {
     "name": "stdout",
     "output_type": "stream",
     "text": [
      "the kr score is 0.8925869707696962\n",
      "mae:75329.28700906344, mse:479315517789.80945, r2_score:0.8925869707696962\n"
     ]
    }
   ],
   "source": [
    "kr_score = kr.score(x_test,y_test)\n",
    "mae = mean_absolute_error(y_test,y_kr_predict)\n",
    "mse = mean_squared_error(y_test,y_kr_predict)\n",
    "rs = r2_score(y_test,y_kr_predict)\n",
    "\n",
    "print(f'the kr score is {kr_score}')\n",
    "print(f'mae:{mae}, mse:{mse}, r2_score:{rs}')"
   ]
  },
  {
   "cell_type": "code",
   "execution_count": 13,
   "id": "2795a5a0",
   "metadata": {},
   "outputs": [],
   "source": [
    "df.to_csv('final_draft.csv')"
   ]
  },
  {
   "cell_type": "code",
   "execution_count": 17,
   "id": "98d3d897",
   "metadata": {},
   "outputs": [
    {
     "data": {
      "text/plain": [
       "156"
      ]
     },
     "execution_count": 17,
     "metadata": {},
     "output_type": "execute_result"
    }
   ],
   "source": [
    "len(df.Item.unique())"
   ]
  }
 ],
 "metadata": {
  "kernelspec": {
   "display_name": ".venv",
   "language": "python",
   "name": "python3"
  },
  "language_info": {
   "codemirror_mode": {
    "name": "ipython",
    "version": 3
   },
   "file_extension": ".py",
   "mimetype": "text/x-python",
   "name": "python",
   "nbconvert_exporter": "python",
   "pygments_lexer": "ipython3",
   "version": "3.11.4"
  }
 },
 "nbformat": 4,
 "nbformat_minor": 5
}
